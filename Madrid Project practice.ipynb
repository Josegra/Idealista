{
 "cells": [
  {
   "cell_type": "code",
   "execution_count": 107,
   "id": "1d05d6f1",
   "metadata": {
    "ExecuteTime": {
     "end_time": "2022-09-04T12:19:04.671431Z",
     "start_time": "2022-09-04T12:19:04.658422Z"
    }
   },
   "outputs": [],
   "source": [
    "import pandas as pd\n",
    "import numpy as np"
   ]
  },
  {
   "cell_type": "code",
   "execution_count": 108,
   "id": "ae4eafc6",
   "metadata": {
    "ExecuteTime": {
     "end_time": "2022-09-04T12:19:05.167314Z",
     "start_time": "2022-09-04T12:19:05.130000Z"
    }
   },
   "outputs": [],
   "source": [
    "df = pd.read_csv(r'C:/Users/cex/PycharmProjects/idealista_scrape/idealista/idealista/idealista_la_latina.csv')"
   ]
  },
  {
   "cell_type": "code",
   "execution_count": 109,
   "id": "1272c03a",
   "metadata": {
    "ExecuteTime": {
     "end_time": "2022-09-04T12:19:05.557783Z",
     "start_time": "2022-09-04T12:19:05.546787Z"
    }
   },
   "outputs": [],
   "source": [
    "df['neighborhood'] = 'La Latina'"
   ]
  },
  {
   "cell_type": "code",
   "execution_count": 110,
   "id": "a7894e7d",
   "metadata": {
    "ExecuteTime": {
     "end_time": "2022-09-04T12:19:05.980975Z",
     "start_time": "2022-09-04T12:19:05.969988Z"
    }
   },
   "outputs": [
    {
     "data": {
      "text/plain": [
       "'\\n**ABSTENERSE AGENCIAS**\\nPARTICULAR alquila coqueto estudio con MUCHA LUZ NATURAL, RECIEN REFORMADO Y ASCENSOR. Ubicado en el CORAZÓN DE M...\\n'"
      ]
     },
     "execution_count": 110,
     "metadata": {},
     "output_type": "execute_result"
    }
   ],
   "source": [
    "df['description'][0]"
   ]
  },
  {
   "cell_type": "markdown",
   "id": "75352697",
   "metadata": {},
   "source": [
    "# Creating amenities"
   ]
  },
  {
   "cell_type": "code",
   "execution_count": 111,
   "id": "c22d16cd",
   "metadata": {
    "ExecuteTime": {
     "end_time": "2022-09-04T12:19:07.336886Z",
     "start_time": "2022-09-04T12:19:07.313882Z"
    }
   },
   "outputs": [
    {
     "name": "stdout",
     "output_type": "stream",
     "text": [
      "<class 'pandas.core.frame.DataFrame'>\n",
      "RangeIndex: 563 entries, 0 to 562\n",
      "Data columns (total 8 columns):\n",
      " #   Column        Non-Null Count  Dtype  \n",
      "---  ------        --------------  -----  \n",
      " 0   title         563 non-null    object \n",
      " 1   price         563 non-null    float64\n",
      " 2   rooms         563 non-null    object \n",
      " 3   mtts          563 non-null    object \n",
      " 4   floor         510 non-null    object \n",
      " 5   link          563 non-null    object \n",
      " 6   description   563 non-null    object \n",
      " 7   neighborhood  563 non-null    object \n",
      "dtypes: float64(1), object(7)\n",
      "memory usage: 35.3+ KB\n"
     ]
    }
   ],
   "source": [
    "df.info()"
   ]
  },
  {
   "cell_type": "code",
   "execution_count": 112,
   "id": "c36b1e8f",
   "metadata": {
    "ExecuteTime": {
     "end_time": "2022-09-04T12:19:15.001157Z",
     "start_time": "2022-09-04T12:19:14.993123Z"
    }
   },
   "outputs": [],
   "source": [
    "df['description'] = df['description'].astype('string')\n",
    "df['title'] = df['title'].astype('string')"
   ]
  },
  {
   "cell_type": "code",
   "execution_count": 113,
   "id": "fd416916",
   "metadata": {
    "ExecuteTime": {
     "end_time": "2022-09-04T12:19:21.486684Z",
     "start_time": "2022-09-04T12:19:21.467682Z"
    }
   },
   "outputs": [
    {
     "data": {
      "text/html": [
       "<div>\n",
       "<style scoped>\n",
       "    .dataframe tbody tr th:only-of-type {\n",
       "        vertical-align: middle;\n",
       "    }\n",
       "\n",
       "    .dataframe tbody tr th {\n",
       "        vertical-align: top;\n",
       "    }\n",
       "\n",
       "    .dataframe thead th {\n",
       "        text-align: right;\n",
       "    }\n",
       "</style>\n",
       "<table border=\"1\" class=\"dataframe\">\n",
       "  <thead>\n",
       "    <tr style=\"text-align: right;\">\n",
       "      <th></th>\n",
       "      <th>title</th>\n",
       "      <th>price</th>\n",
       "      <th>rooms</th>\n",
       "      <th>mtts</th>\n",
       "      <th>floor</th>\n",
       "      <th>link</th>\n",
       "      <th>description</th>\n",
       "      <th>neighborhood</th>\n",
       "    </tr>\n",
       "  </thead>\n",
       "  <tbody>\n",
       "    <tr>\n",
       "      <th>0</th>\n",
       "      <td>Estudio en calle del Águila, 14, Palacio, Madrid</td>\n",
       "      <td>625.0</td>\n",
       "      <td>22 m²</td>\n",
       "      <td>Planta 3ª interior con ascensor</td>\n",
       "      <td>3 horas</td>\n",
       "      <td>/inmueble/95827954/</td>\n",
       "      <td>**ABSTENERSE AGENCIAS**\n",
       "PARTICULAR alquila co...</td>\n",
       "      <td>La Latina</td>\n",
       "    </tr>\n",
       "    <tr>\n",
       "      <th>1</th>\n",
       "      <td>Estudio en calle del Mediodía Chica, Palacio, ...</td>\n",
       "      <td>875.0</td>\n",
       "      <td>40 m²</td>\n",
       "      <td>Bajo interior sin ascensor</td>\n",
       "      <td>NaN</td>\n",
       "      <td>/inmueble/98504557/</td>\n",
       "      <td>Servicheck Alquila, información con Johana 67...</td>\n",
       "      <td>La Latina</td>\n",
       "    </tr>\n",
       "    <tr>\n",
       "      <th>2</th>\n",
       "      <td>Piso en calle del Mediodía Grande, Palacio, Ma...</td>\n",
       "      <td>1.0</td>\n",
       "      <td>1 hab.</td>\n",
       "      <td>35 m²</td>\n",
       "      <td>Planta 4ª interior sin ascensor</td>\n",
       "      <td>/inmueble/98643813/</td>\n",
       "      <td>DESCUBRE EL ALQUILER TEMPORAL CON PLANS IN PL...</td>\n",
       "      <td>La Latina</td>\n",
       "    </tr>\n",
       "    <tr>\n",
       "      <th>3</th>\n",
       "      <td>Estudio en calle de Toledo, Lavapiés-Embajador...</td>\n",
       "      <td>670.0</td>\n",
       "      <td>20 m²</td>\n",
       "      <td>Planta 4ª interior con ascensor</td>\n",
       "      <td>22 ago</td>\n",
       "      <td>/inmueble/98589983/</td>\n",
       "      <td>SERVICHECK ALQUILA:\n",
       "Para informacion y visita...</td>\n",
       "      <td>La Latina</td>\n",
       "    </tr>\n",
       "    <tr>\n",
       "      <th>4</th>\n",
       "      <td>Piso en Tabernilla, 3, Palacio, Madrid</td>\n",
       "      <td>800.0</td>\n",
       "      <td>1 hab.</td>\n",
       "      <td>40 m²</td>\n",
       "      <td>Bajo interior sin ascensor</td>\n",
       "      <td>/inmueble/98643705/</td>\n",
       "      <td>Bajo\n",
       "1 dormitorio\n",
       "Amueblado\n",
       "Totalmente reform...</td>\n",
       "      <td>La Latina</td>\n",
       "    </tr>\n",
       "    <tr>\n",
       "      <th>...</th>\n",
       "      <td>...</td>\n",
       "      <td>...</td>\n",
       "      <td>...</td>\n",
       "      <td>...</td>\n",
       "      <td>...</td>\n",
       "      <td>...</td>\n",
       "      <td>...</td>\n",
       "      <td>...</td>\n",
       "    </tr>\n",
       "    <tr>\n",
       "      <th>558</th>\n",
       "      <td>Estudio en avenida de la Osa Mayor, 57, Aravac...</td>\n",
       "      <td>750.0</td>\n",
       "      <td>55 m²</td>\n",
       "      <td>Planta 1ª exterior sin ascensor</td>\n",
       "      <td>NaN</td>\n",
       "      <td>/inmueble/91089733/</td>\n",
       "      <td>Aire acondicionado, parque recién reformado.</td>\n",
       "      <td>La Latina</td>\n",
       "    </tr>\n",
       "    <tr>\n",
       "      <th>559</th>\n",
       "      <td>Piso en avenida del Talgo, 220, Aravaca, Madrid</td>\n",
       "      <td>1.8</td>\n",
       "      <td>1 hab.</td>\n",
       "      <td>59 m²</td>\n",
       "      <td>Planta 1ª exterior con ascensor</td>\n",
       "      <td>/inmueble/94651456/</td>\n",
       "      <td>Precioso apartamento recién pintado y listo p...</td>\n",
       "      <td>La Latina</td>\n",
       "    </tr>\n",
       "    <tr>\n",
       "      <th>560</th>\n",
       "      <td>Piso en calle San Restituto, 51, Valdezarza, M...</td>\n",
       "      <td>1.8</td>\n",
       "      <td>2 hab.</td>\n",
       "      <td>98 m²</td>\n",
       "      <td>Planta 6ª exterior con ascensor</td>\n",
       "      <td>/inmueble/27957885/</td>\n",
       "      <td>Calidades de lujo. 2 dormitorios. Cocina tota...</td>\n",
       "      <td>La Latina</td>\n",
       "    </tr>\n",
       "    <tr>\n",
       "      <th>561</th>\n",
       "      <td>Piso en calle Isla de Oza, 76, Ciudad Universi...</td>\n",
       "      <td>1.5</td>\n",
       "      <td>3 hab.</td>\n",
       "      <td>87 m²</td>\n",
       "      <td>Planta 1ª exterior con ascensor</td>\n",
       "      <td>/inmueble/1986527/</td>\n",
       "      <td>Abstenerse agencias comunidad incluida en el ...</td>\n",
       "      <td>La Latina</td>\n",
       "    </tr>\n",
       "    <tr>\n",
       "      <th>562</th>\n",
       "      <td>Piso en calle del Tutor, Argüelles, Madrid</td>\n",
       "      <td>3.4</td>\n",
       "      <td>6 hab.</td>\n",
       "      <td>220 m²</td>\n",
       "      <td>Planta 5ª exterior con ascensor</td>\n",
       "      <td>/inmueble/95275218/</td>\n",
       "      <td>TODOS LOS GASTOS INCLUIDOS /MAD Housing alqui...</td>\n",
       "      <td>La Latina</td>\n",
       "    </tr>\n",
       "  </tbody>\n",
       "</table>\n",
       "<p>563 rows × 8 columns</p>\n",
       "</div>"
      ],
      "text/plain": [
       "                                                 title  price   rooms  \\\n",
       "0     Estudio en calle del Águila, 14, Palacio, Madrid  625.0   22 m²   \n",
       "1    Estudio en calle del Mediodía Chica, Palacio, ...  875.0   40 m²   \n",
       "2    Piso en calle del Mediodía Grande, Palacio, Ma...    1.0  1 hab.   \n",
       "3    Estudio en calle de Toledo, Lavapiés-Embajador...  670.0   20 m²   \n",
       "4               Piso en Tabernilla, 3, Palacio, Madrid  800.0  1 hab.   \n",
       "..                                                 ...    ...     ...   \n",
       "558  Estudio en avenida de la Osa Mayor, 57, Aravac...  750.0   55 m²   \n",
       "559    Piso en avenida del Talgo, 220, Aravaca, Madrid    1.8  1 hab.   \n",
       "560  Piso en calle San Restituto, 51, Valdezarza, M...    1.8  2 hab.   \n",
       "561  Piso en calle Isla de Oza, 76, Ciudad Universi...    1.5  3 hab.   \n",
       "562         Piso en calle del Tutor, Argüelles, Madrid    3.4  6 hab.   \n",
       "\n",
       "                                mtts                            floor  \\\n",
       "0    Planta 3ª interior con ascensor                          3 horas   \n",
       "1         Bajo interior sin ascensor                              NaN   \n",
       "2                              35 m²  Planta 4ª interior sin ascensor   \n",
       "3    Planta 4ª interior con ascensor                          22 ago    \n",
       "4                              40 m²       Bajo interior sin ascensor   \n",
       "..                               ...                              ...   \n",
       "558  Planta 1ª exterior sin ascensor                              NaN   \n",
       "559                            59 m²  Planta 1ª exterior con ascensor   \n",
       "560                            98 m²  Planta 6ª exterior con ascensor   \n",
       "561                            87 m²  Planta 1ª exterior con ascensor   \n",
       "562                           220 m²  Planta 5ª exterior con ascensor   \n",
       "\n",
       "                    link                                        description  \\\n",
       "0    /inmueble/95827954/  \n",
       "**ABSTENERSE AGENCIAS**\n",
       "PARTICULAR alquila co...   \n",
       "1    /inmueble/98504557/  \n",
       "Servicheck Alquila, información con Johana 67...   \n",
       "2    /inmueble/98643813/  \n",
       "DESCUBRE EL ALQUILER TEMPORAL CON PLANS IN PL...   \n",
       "3    /inmueble/98589983/  \n",
       "SERVICHECK ALQUILA:\n",
       "Para informacion y visita...   \n",
       "4    /inmueble/98643705/  \n",
       "Bajo\n",
       "1 dormitorio\n",
       "Amueblado\n",
       "Totalmente reform...   \n",
       "..                   ...                                                ...   \n",
       "558  /inmueble/91089733/     \n",
       "Aire acondicionado, parque recién reformado.\n",
       "   \n",
       "559  /inmueble/94651456/  \n",
       "Precioso apartamento recién pintado y listo p...   \n",
       "560  /inmueble/27957885/  \n",
       "Calidades de lujo. 2 dormitorios. Cocina tota...   \n",
       "561   /inmueble/1986527/  \n",
       "Abstenerse agencias comunidad incluida en el ...   \n",
       "562  /inmueble/95275218/  \n",
       "TODOS LOS GASTOS INCLUIDOS /MAD Housing alqui...   \n",
       "\n",
       "    neighborhood  \n",
       "0      La Latina  \n",
       "1      La Latina  \n",
       "2      La Latina  \n",
       "3      La Latina  \n",
       "4      La Latina  \n",
       "..           ...  \n",
       "558    La Latina  \n",
       "559    La Latina  \n",
       "560    La Latina  \n",
       "561    La Latina  \n",
       "562    La Latina  \n",
       "\n",
       "[563 rows x 8 columns]"
      ]
     },
     "execution_count": 113,
     "metadata": {},
     "output_type": "execute_result"
    }
   ],
   "source": [
    "df"
   ]
  },
  {
   "cell_type": "code",
   "execution_count": 51,
   "id": "5ad4c37e",
   "metadata": {
    "ExecuteTime": {
     "end_time": "2022-08-30T18:25:07.624130Z",
     "start_time": "2022-08-30T18:25:07.604119Z"
    }
   },
   "outputs": [
    {
     "name": "stdout",
     "output_type": "stream",
     "text": [
      "<class 'pandas.core.frame.DataFrame'>\n",
      "RangeIndex: 563 entries, 0 to 562\n",
      "Data columns (total 8 columns):\n",
      " #   Column        Non-Null Count  Dtype  \n",
      "---  ------        --------------  -----  \n",
      " 0   title         563 non-null    string \n",
      " 1   price         563 non-null    float64\n",
      " 2   rooms         563 non-null    object \n",
      " 3   mtts          563 non-null    object \n",
      " 4   floor         510 non-null    object \n",
      " 5   link          563 non-null    object \n",
      " 6   description   563 non-null    string \n",
      " 7   neighborhood  563 non-null    object \n",
      "dtypes: float64(1), object(5), string(2)\n",
      "memory usage: 35.3+ KB\n"
     ]
    }
   ],
   "source": [
    "df.info()"
   ]
  },
  {
   "cell_type": "code",
   "execution_count": 84,
   "id": "fda65e27",
   "metadata": {
    "ExecuteTime": {
     "end_time": "2022-08-28T13:02:18.051856Z",
     "start_time": "2022-08-28T13:02:18.036855Z"
    }
   },
   "outputs": [],
   "source": [
    "mask = df['description'].str.contains('piscina')\n",
    "df['mask'] = mask"
   ]
  },
  {
   "cell_type": "code",
   "execution_count": 85,
   "id": "e4fbe4ca",
   "metadata": {
    "ExecuteTime": {
     "end_time": "2022-08-28T13:02:20.055856Z",
     "start_time": "2022-08-28T13:02:20.029851Z"
    }
   },
   "outputs": [
    {
     "data": {
      "text/html": [
       "<div>\n",
       "<style scoped>\n",
       "    .dataframe tbody tr th:only-of-type {\n",
       "        vertical-align: middle;\n",
       "    }\n",
       "\n",
       "    .dataframe tbody tr th {\n",
       "        vertical-align: top;\n",
       "    }\n",
       "\n",
       "    .dataframe thead th {\n",
       "        text-align: right;\n",
       "    }\n",
       "</style>\n",
       "<table border=\"1\" class=\"dataframe\">\n",
       "  <thead>\n",
       "    <tr style=\"text-align: right;\">\n",
       "      <th></th>\n",
       "      <th>title</th>\n",
       "      <th>price</th>\n",
       "      <th>rooms</th>\n",
       "      <th>mtts</th>\n",
       "      <th>floor</th>\n",
       "      <th>link</th>\n",
       "      <th>description</th>\n",
       "      <th>neighborhood</th>\n",
       "      <th>furnitare</th>\n",
       "      <th>C</th>\n",
       "      <th>mask</th>\n",
       "    </tr>\n",
       "  </thead>\n",
       "  <tbody>\n",
       "    <tr>\n",
       "      <th>0</th>\n",
       "      <td>Estudio en calle del Águila, 14, Palacio, Madrid</td>\n",
       "      <td>625.0</td>\n",
       "      <td>22 m²</td>\n",
       "      <td>Planta 3ª interior con ascensor</td>\n",
       "      <td>3 horas</td>\n",
       "      <td>/inmueble/95827954/</td>\n",
       "      <td>**ABSTENERSE AGENCIAS**\n",
       "PARTICULAR alquila co...</td>\n",
       "      <td>La Latina</td>\n",
       "      <td>False</td>\n",
       "      <td>True</td>\n",
       "      <td>False</td>\n",
       "    </tr>\n",
       "    <tr>\n",
       "      <th>1</th>\n",
       "      <td>Estudio en calle del Mediodía Chica, Palacio, ...</td>\n",
       "      <td>875.0</td>\n",
       "      <td>40 m²</td>\n",
       "      <td>Bajo interior sin ascensor</td>\n",
       "      <td>NaN</td>\n",
       "      <td>/inmueble/98504557/</td>\n",
       "      <td>Servicheck Alquila, información con Johana 67...</td>\n",
       "      <td>La Latina</td>\n",
       "      <td>False</td>\n",
       "      <td>True</td>\n",
       "      <td>False</td>\n",
       "    </tr>\n",
       "    <tr>\n",
       "      <th>2</th>\n",
       "      <td>Piso en calle del Mediodía Grande, Palacio, Ma...</td>\n",
       "      <td>1.0</td>\n",
       "      <td>1 hab.</td>\n",
       "      <td>35 m²</td>\n",
       "      <td>Planta 4ª interior sin ascensor</td>\n",
       "      <td>/inmueble/98643813/</td>\n",
       "      <td>DESCUBRE EL ALQUILER TEMPORAL CON PLANS IN PL...</td>\n",
       "      <td>La Latina</td>\n",
       "      <td>False</td>\n",
       "      <td>True</td>\n",
       "      <td>False</td>\n",
       "    </tr>\n",
       "    <tr>\n",
       "      <th>3</th>\n",
       "      <td>Estudio en calle de Toledo, Lavapiés-Embajador...</td>\n",
       "      <td>670.0</td>\n",
       "      <td>20 m²</td>\n",
       "      <td>Planta 4ª interior con ascensor</td>\n",
       "      <td>22 ago</td>\n",
       "      <td>/inmueble/98589983/</td>\n",
       "      <td>SERVICHECK ALQUILA:\n",
       "Para informacion y visita...</td>\n",
       "      <td>La Latina</td>\n",
       "      <td>False</td>\n",
       "      <td>True</td>\n",
       "      <td>False</td>\n",
       "    </tr>\n",
       "    <tr>\n",
       "      <th>4</th>\n",
       "      <td>Piso en Tabernilla, 3, Palacio, Madrid</td>\n",
       "      <td>800.0</td>\n",
       "      <td>1 hab.</td>\n",
       "      <td>40 m²</td>\n",
       "      <td>Bajo interior sin ascensor</td>\n",
       "      <td>/inmueble/98643705/</td>\n",
       "      <td>Bajo\n",
       "1 dormitorio\n",
       "Amueblado\n",
       "Totalmente reform...</td>\n",
       "      <td>La Latina</td>\n",
       "      <td>False</td>\n",
       "      <td>True</td>\n",
       "      <td>False</td>\n",
       "    </tr>\n",
       "    <tr>\n",
       "      <th>...</th>\n",
       "      <td>...</td>\n",
       "      <td>...</td>\n",
       "      <td>...</td>\n",
       "      <td>...</td>\n",
       "      <td>...</td>\n",
       "      <td>...</td>\n",
       "      <td>...</td>\n",
       "      <td>...</td>\n",
       "      <td>...</td>\n",
       "      <td>...</td>\n",
       "      <td>...</td>\n",
       "    </tr>\n",
       "    <tr>\n",
       "      <th>558</th>\n",
       "      <td>Estudio en avenida de la Osa Mayor, 57, Aravac...</td>\n",
       "      <td>750.0</td>\n",
       "      <td>55 m²</td>\n",
       "      <td>Planta 1ª exterior sin ascensor</td>\n",
       "      <td>NaN</td>\n",
       "      <td>/inmueble/91089733/</td>\n",
       "      <td>Aire acondicionado, parque recién reformado.</td>\n",
       "      <td>La Latina</td>\n",
       "      <td>False</td>\n",
       "      <td>True</td>\n",
       "      <td>False</td>\n",
       "    </tr>\n",
       "    <tr>\n",
       "      <th>559</th>\n",
       "      <td>Piso en avenida del Talgo, 220, Aravaca, Madrid</td>\n",
       "      <td>1.8</td>\n",
       "      <td>1 hab.</td>\n",
       "      <td>59 m²</td>\n",
       "      <td>Planta 1ª exterior con ascensor</td>\n",
       "      <td>/inmueble/94651456/</td>\n",
       "      <td>Precioso apartamento recién pintado y listo p...</td>\n",
       "      <td>La Latina</td>\n",
       "      <td>False</td>\n",
       "      <td>True</td>\n",
       "      <td>True</td>\n",
       "    </tr>\n",
       "    <tr>\n",
       "      <th>560</th>\n",
       "      <td>Piso en calle San Restituto, 51, Valdezarza, M...</td>\n",
       "      <td>1.8</td>\n",
       "      <td>2 hab.</td>\n",
       "      <td>98 m²</td>\n",
       "      <td>Planta 6ª exterior con ascensor</td>\n",
       "      <td>/inmueble/27957885/</td>\n",
       "      <td>Calidades de lujo. 2 dormitorios. Cocina tota...</td>\n",
       "      <td>La Latina</td>\n",
       "      <td>False</td>\n",
       "      <td>True</td>\n",
       "      <td>False</td>\n",
       "    </tr>\n",
       "    <tr>\n",
       "      <th>561</th>\n",
       "      <td>Piso en calle Isla de Oza, 76, Ciudad Universi...</td>\n",
       "      <td>1.5</td>\n",
       "      <td>3 hab.</td>\n",
       "      <td>87 m²</td>\n",
       "      <td>Planta 1ª exterior con ascensor</td>\n",
       "      <td>/inmueble/1986527/</td>\n",
       "      <td>Abstenerse agencias comunidad incluida en el ...</td>\n",
       "      <td>La Latina</td>\n",
       "      <td>False</td>\n",
       "      <td>True</td>\n",
       "      <td>False</td>\n",
       "    </tr>\n",
       "    <tr>\n",
       "      <th>562</th>\n",
       "      <td>Piso en calle del Tutor, Argüelles, Madrid</td>\n",
       "      <td>3.4</td>\n",
       "      <td>6 hab.</td>\n",
       "      <td>220 m²</td>\n",
       "      <td>Planta 5ª exterior con ascensor</td>\n",
       "      <td>/inmueble/95275218/</td>\n",
       "      <td>TODOS LOS GASTOS INCLUIDOS /MAD Housing alqui...</td>\n",
       "      <td>La Latina</td>\n",
       "      <td>False</td>\n",
       "      <td>True</td>\n",
       "      <td>False</td>\n",
       "    </tr>\n",
       "  </tbody>\n",
       "</table>\n",
       "<p>563 rows × 11 columns</p>\n",
       "</div>"
      ],
      "text/plain": [
       "                                                 title  price   rooms  \\\n",
       "0     Estudio en calle del Águila, 14, Palacio, Madrid  625.0   22 m²   \n",
       "1    Estudio en calle del Mediodía Chica, Palacio, ...  875.0   40 m²   \n",
       "2    Piso en calle del Mediodía Grande, Palacio, Ma...    1.0  1 hab.   \n",
       "3    Estudio en calle de Toledo, Lavapiés-Embajador...  670.0   20 m²   \n",
       "4               Piso en Tabernilla, 3, Palacio, Madrid  800.0  1 hab.   \n",
       "..                                                 ...    ...     ...   \n",
       "558  Estudio en avenida de la Osa Mayor, 57, Aravac...  750.0   55 m²   \n",
       "559    Piso en avenida del Talgo, 220, Aravaca, Madrid    1.8  1 hab.   \n",
       "560  Piso en calle San Restituto, 51, Valdezarza, M...    1.8  2 hab.   \n",
       "561  Piso en calle Isla de Oza, 76, Ciudad Universi...    1.5  3 hab.   \n",
       "562         Piso en calle del Tutor, Argüelles, Madrid    3.4  6 hab.   \n",
       "\n",
       "                                mtts                            floor  \\\n",
       "0    Planta 3ª interior con ascensor                          3 horas   \n",
       "1         Bajo interior sin ascensor                              NaN   \n",
       "2                              35 m²  Planta 4ª interior sin ascensor   \n",
       "3    Planta 4ª interior con ascensor                          22 ago    \n",
       "4                              40 m²       Bajo interior sin ascensor   \n",
       "..                               ...                              ...   \n",
       "558  Planta 1ª exterior sin ascensor                              NaN   \n",
       "559                            59 m²  Planta 1ª exterior con ascensor   \n",
       "560                            98 m²  Planta 6ª exterior con ascensor   \n",
       "561                            87 m²  Planta 1ª exterior con ascensor   \n",
       "562                           220 m²  Planta 5ª exterior con ascensor   \n",
       "\n",
       "                    link                                        description  \\\n",
       "0    /inmueble/95827954/  \n",
       "**ABSTENERSE AGENCIAS**\n",
       "PARTICULAR alquila co...   \n",
       "1    /inmueble/98504557/  \n",
       "Servicheck Alquila, información con Johana 67...   \n",
       "2    /inmueble/98643813/  \n",
       "DESCUBRE EL ALQUILER TEMPORAL CON PLANS IN PL...   \n",
       "3    /inmueble/98589983/  \n",
       "SERVICHECK ALQUILA:\n",
       "Para informacion y visita...   \n",
       "4    /inmueble/98643705/  \n",
       "Bajo\n",
       "1 dormitorio\n",
       "Amueblado\n",
       "Totalmente reform...   \n",
       "..                   ...                                                ...   \n",
       "558  /inmueble/91089733/     \n",
       "Aire acondicionado, parque recién reformado.\n",
       "   \n",
       "559  /inmueble/94651456/  \n",
       "Precioso apartamento recién pintado y listo p...   \n",
       "560  /inmueble/27957885/  \n",
       "Calidades de lujo. 2 dormitorios. Cocina tota...   \n",
       "561   /inmueble/1986527/  \n",
       "Abstenerse agencias comunidad incluida en el ...   \n",
       "562  /inmueble/95275218/  \n",
       "TODOS LOS GASTOS INCLUIDOS /MAD Housing alqui...   \n",
       "\n",
       "    neighborhood  furnitare     C   mask  \n",
       "0      La Latina      False  True  False  \n",
       "1      La Latina      False  True  False  \n",
       "2      La Latina      False  True  False  \n",
       "3      La Latina      False  True  False  \n",
       "4      La Latina      False  True  False  \n",
       "..           ...        ...   ...    ...  \n",
       "558    La Latina      False  True  False  \n",
       "559    La Latina      False  True   True  \n",
       "560    La Latina      False  True  False  \n",
       "561    La Latina      False  True  False  \n",
       "562    La Latina      False  True  False  \n",
       "\n",
       "[563 rows x 11 columns]"
      ]
     },
     "execution_count": 85,
     "metadata": {},
     "output_type": "execute_result"
    }
   ],
   "source": [
    "df"
   ]
  },
  {
   "cell_type": "code",
   "execution_count": 86,
   "id": "30657ce6",
   "metadata": {
    "ExecuteTime": {
     "end_time": "2022-08-28T13:02:20.497256Z",
     "start_time": "2022-08-28T13:02:20.485257Z"
    }
   },
   "outputs": [
    {
     "data": {
      "text/plain": [
       "False    528\n",
       "True      35\n",
       "Name: mask, dtype: Int64"
      ]
     },
     "execution_count": 86,
     "metadata": {},
     "output_type": "execute_result"
    }
   ],
   "source": [
    "df['mask'].value_counts()"
   ]
  },
  {
   "cell_type": "markdown",
   "id": "873bc99a",
   "metadata": {},
   "source": [
    "# Interior or exterior \n",
    "Using the Floor column and then removing the strings"
   ]
  },
  {
   "cell_type": "markdown",
   "id": "3330d359",
   "metadata": {},
   "source": [
    "## Interior"
   ]
  },
  {
   "cell_type": "code",
   "execution_count": 8,
   "id": "5f8205ac",
   "metadata": {
    "ExecuteTime": {
     "end_time": "2022-08-30T17:27:53.164634Z",
     "start_time": "2022-08-30T17:27:53.145616Z"
    }
   },
   "outputs": [],
   "source": [
    "interior = df['floor'].str.contains('interior')\n",
    "df['interior'] = interior"
   ]
  },
  {
   "cell_type": "code",
   "execution_count": 9,
   "id": "367a6be0",
   "metadata": {
    "ExecuteTime": {
     "end_time": "2022-08-30T17:27:53.695858Z",
     "start_time": "2022-08-30T17:27:53.687857Z"
    }
   },
   "outputs": [
    {
     "data": {
      "text/plain": [
       "False    431\n",
       "True      79\n",
       "Name: interior, dtype: int64"
      ]
     },
     "execution_count": 9,
     "metadata": {},
     "output_type": "execute_result"
    }
   ],
   "source": [
    "df['interior'].value_counts()"
   ]
  },
  {
   "cell_type": "markdown",
   "id": "6b090208",
   "metadata": {},
   "source": [
    "## Exterior"
   ]
  },
  {
   "cell_type": "code",
   "execution_count": 10,
   "id": "4f297535",
   "metadata": {
    "ExecuteTime": {
     "end_time": "2022-08-30T17:29:00.764612Z",
     "start_time": "2022-08-30T17:29:00.759273Z"
    }
   },
   "outputs": [],
   "source": [
    "exterior = df['floor'].str.contains('exterior')\n",
    "df['exterior'] = exterior"
   ]
  },
  {
   "cell_type": "code",
   "execution_count": 11,
   "id": "47ed7cf7",
   "metadata": {
    "ExecuteTime": {
     "end_time": "2022-08-30T17:29:11.523407Z",
     "start_time": "2022-08-30T17:29:11.504384Z"
    }
   },
   "outputs": [
    {
     "data": {
      "text/plain": [
       "True     403\n",
       "False    107\n",
       "Name: exterior, dtype: int64"
      ]
     },
     "execution_count": 11,
     "metadata": {},
     "output_type": "execute_result"
    }
   ],
   "source": [
    "df['exterior'].value_counts()"
   ]
  },
  {
   "cell_type": "markdown",
   "id": "5d923801",
   "metadata": {},
   "source": [
    "# For the studios as they do not have rooms, copy and paste de rooms and square meters to their respective columns"
   ]
  },
  {
   "cell_type": "code",
   "execution_count": 62,
   "id": "5a41baa2",
   "metadata": {
    "ExecuteTime": {
     "end_time": "2022-08-30T18:28:37.905664Z",
     "start_time": "2022-08-30T18:28:37.891654Z"
    }
   },
   "outputs": [],
   "source": [
    "df['type'] = 'whatever'"
   ]
  },
  {
   "cell_type": "code",
   "execution_count": 67,
   "id": "da4dc781",
   "metadata": {
    "ExecuteTime": {
     "end_time": "2022-08-30T18:31:46.861349Z",
     "start_time": "2022-08-30T18:31:46.852361Z"
    }
   },
   "outputs": [],
   "source": [
    "df.loc[df[\"title\"].str.contains(\"Piso\", case=True), \"type\"] = \"Flat\"\n",
    "df.loc[df[\"title\"].str.contains(\"Estudio\", case=True), \"type\"] = \"Studio\"\n",
    "df.loc[df[\"title\"].str.contains(\"Ático\", case=True), \"type\"] = \"Attic\"\n",
    "df.loc[df[\"title\"].str.contains(\"Dúplex\", case=True), \"type\"] = \"Duplex\"\n",
    "#Can also be used df['Compare'] = df.apply(lambda x: 'Yes' if x['DEPTH'] in x['Description'] else 'No',axis=1)"
   ]
  },
  {
   "cell_type": "code",
   "execution_count": 70,
   "id": "11aadcad",
   "metadata": {
    "ExecuteTime": {
     "end_time": "2022-08-30T18:38:11.381925Z",
     "start_time": "2022-08-30T18:38:11.363926Z"
    }
   },
   "outputs": [
    {
     "data": {
      "text/html": [
       "<div>\n",
       "<style scoped>\n",
       "    .dataframe tbody tr th:only-of-type {\n",
       "        vertical-align: middle;\n",
       "    }\n",
       "\n",
       "    .dataframe tbody tr th {\n",
       "        vertical-align: top;\n",
       "    }\n",
       "\n",
       "    .dataframe thead th {\n",
       "        text-align: right;\n",
       "    }\n",
       "</style>\n",
       "<table border=\"1\" class=\"dataframe\">\n",
       "  <thead>\n",
       "    <tr style=\"text-align: right;\">\n",
       "      <th></th>\n",
       "      <th>title</th>\n",
       "      <th>price</th>\n",
       "      <th>rooms</th>\n",
       "      <th>mtts</th>\n",
       "      <th>floor</th>\n",
       "      <th>link</th>\n",
       "      <th>description</th>\n",
       "      <th>neighborhood</th>\n",
       "      <th>type</th>\n",
       "    </tr>\n",
       "  </thead>\n",
       "  <tbody>\n",
       "    <tr>\n",
       "      <th>0</th>\n",
       "      <td>Estudio en calle del Águila, 14, Palacio, Madrid</td>\n",
       "      <td>625.0</td>\n",
       "      <td>22 m²</td>\n",
       "      <td>Planta 3ª interior con ascensor</td>\n",
       "      <td>3 horas</td>\n",
       "      <td>/inmueble/95827954/</td>\n",
       "      <td>**ABSTENERSE AGENCIAS**\n",
       "PARTICULAR alquila co...</td>\n",
       "      <td>La Latina</td>\n",
       "      <td>Studio</td>\n",
       "    </tr>\n",
       "    <tr>\n",
       "      <th>1</th>\n",
       "      <td>Estudio en calle del Mediodía Chica, Palacio, ...</td>\n",
       "      <td>875.0</td>\n",
       "      <td>40 m²</td>\n",
       "      <td>Bajo interior sin ascensor</td>\n",
       "      <td>NaN</td>\n",
       "      <td>/inmueble/98504557/</td>\n",
       "      <td>Servicheck Alquila, información con Johana 67...</td>\n",
       "      <td>La Latina</td>\n",
       "      <td>Studio</td>\n",
       "    </tr>\n",
       "    <tr>\n",
       "      <th>2</th>\n",
       "      <td>Piso en calle del Mediodía Grande, Palacio, Ma...</td>\n",
       "      <td>1.0</td>\n",
       "      <td>1 hab.</td>\n",
       "      <td>35 m²</td>\n",
       "      <td>Planta 4ª interior sin ascensor</td>\n",
       "      <td>/inmueble/98643813/</td>\n",
       "      <td>DESCUBRE EL ALQUILER TEMPORAL CON PLANS IN PL...</td>\n",
       "      <td>La Latina</td>\n",
       "      <td>Flat</td>\n",
       "    </tr>\n",
       "    <tr>\n",
       "      <th>3</th>\n",
       "      <td>Estudio en calle de Toledo, Lavapiés-Embajador...</td>\n",
       "      <td>670.0</td>\n",
       "      <td>20 m²</td>\n",
       "      <td>Planta 4ª interior con ascensor</td>\n",
       "      <td>22 ago</td>\n",
       "      <td>/inmueble/98589983/</td>\n",
       "      <td>SERVICHECK ALQUILA:\n",
       "Para informacion y visita...</td>\n",
       "      <td>La Latina</td>\n",
       "      <td>Studio</td>\n",
       "    </tr>\n",
       "    <tr>\n",
       "      <th>4</th>\n",
       "      <td>Piso en Tabernilla, 3, Palacio, Madrid</td>\n",
       "      <td>800.0</td>\n",
       "      <td>1 hab.</td>\n",
       "      <td>40 m²</td>\n",
       "      <td>Bajo interior sin ascensor</td>\n",
       "      <td>/inmueble/98643705/</td>\n",
       "      <td>Bajo\n",
       "1 dormitorio\n",
       "Amueblado\n",
       "Totalmente reform...</td>\n",
       "      <td>La Latina</td>\n",
       "      <td>Flat</td>\n",
       "    </tr>\n",
       "    <tr>\n",
       "      <th>...</th>\n",
       "      <td>...</td>\n",
       "      <td>...</td>\n",
       "      <td>...</td>\n",
       "      <td>...</td>\n",
       "      <td>...</td>\n",
       "      <td>...</td>\n",
       "      <td>...</td>\n",
       "      <td>...</td>\n",
       "      <td>...</td>\n",
       "    </tr>\n",
       "    <tr>\n",
       "      <th>558</th>\n",
       "      <td>Estudio en avenida de la Osa Mayor, 57, Aravac...</td>\n",
       "      <td>750.0</td>\n",
       "      <td>55 m²</td>\n",
       "      <td>Planta 1ª exterior sin ascensor</td>\n",
       "      <td>NaN</td>\n",
       "      <td>/inmueble/91089733/</td>\n",
       "      <td>Aire acondicionado, parque recién reformado.</td>\n",
       "      <td>La Latina</td>\n",
       "      <td>Studio</td>\n",
       "    </tr>\n",
       "    <tr>\n",
       "      <th>559</th>\n",
       "      <td>Piso en avenida del Talgo, 220, Aravaca, Madrid</td>\n",
       "      <td>1.8</td>\n",
       "      <td>1 hab.</td>\n",
       "      <td>59 m²</td>\n",
       "      <td>Planta 1ª exterior con ascensor</td>\n",
       "      <td>/inmueble/94651456/</td>\n",
       "      <td>Precioso apartamento recién pintado y listo p...</td>\n",
       "      <td>La Latina</td>\n",
       "      <td>Flat</td>\n",
       "    </tr>\n",
       "    <tr>\n",
       "      <th>560</th>\n",
       "      <td>Piso en calle San Restituto, 51, Valdezarza, M...</td>\n",
       "      <td>1.8</td>\n",
       "      <td>2 hab.</td>\n",
       "      <td>98 m²</td>\n",
       "      <td>Planta 6ª exterior con ascensor</td>\n",
       "      <td>/inmueble/27957885/</td>\n",
       "      <td>Calidades de lujo. 2 dormitorios. Cocina tota...</td>\n",
       "      <td>La Latina</td>\n",
       "      <td>Flat</td>\n",
       "    </tr>\n",
       "    <tr>\n",
       "      <th>561</th>\n",
       "      <td>Piso en calle Isla de Oza, 76, Ciudad Universi...</td>\n",
       "      <td>1.5</td>\n",
       "      <td>3 hab.</td>\n",
       "      <td>87 m²</td>\n",
       "      <td>Planta 1ª exterior con ascensor</td>\n",
       "      <td>/inmueble/1986527/</td>\n",
       "      <td>Abstenerse agencias comunidad incluida en el ...</td>\n",
       "      <td>La Latina</td>\n",
       "      <td>Flat</td>\n",
       "    </tr>\n",
       "    <tr>\n",
       "      <th>562</th>\n",
       "      <td>Piso en calle del Tutor, Argüelles, Madrid</td>\n",
       "      <td>3.4</td>\n",
       "      <td>6 hab.</td>\n",
       "      <td>220 m²</td>\n",
       "      <td>Planta 5ª exterior con ascensor</td>\n",
       "      <td>/inmueble/95275218/</td>\n",
       "      <td>TODOS LOS GASTOS INCLUIDOS /MAD Housing alqui...</td>\n",
       "      <td>La Latina</td>\n",
       "      <td>Flat</td>\n",
       "    </tr>\n",
       "  </tbody>\n",
       "</table>\n",
       "<p>563 rows × 9 columns</p>\n",
       "</div>"
      ],
      "text/plain": [
       "                                                 title  price   rooms  \\\n",
       "0     Estudio en calle del Águila, 14, Palacio, Madrid  625.0   22 m²   \n",
       "1    Estudio en calle del Mediodía Chica, Palacio, ...  875.0   40 m²   \n",
       "2    Piso en calle del Mediodía Grande, Palacio, Ma...    1.0  1 hab.   \n",
       "3    Estudio en calle de Toledo, Lavapiés-Embajador...  670.0   20 m²   \n",
       "4               Piso en Tabernilla, 3, Palacio, Madrid  800.0  1 hab.   \n",
       "..                                                 ...    ...     ...   \n",
       "558  Estudio en avenida de la Osa Mayor, 57, Aravac...  750.0   55 m²   \n",
       "559    Piso en avenida del Talgo, 220, Aravaca, Madrid    1.8  1 hab.   \n",
       "560  Piso en calle San Restituto, 51, Valdezarza, M...    1.8  2 hab.   \n",
       "561  Piso en calle Isla de Oza, 76, Ciudad Universi...    1.5  3 hab.   \n",
       "562         Piso en calle del Tutor, Argüelles, Madrid    3.4  6 hab.   \n",
       "\n",
       "                                mtts                            floor  \\\n",
       "0    Planta 3ª interior con ascensor                          3 horas   \n",
       "1         Bajo interior sin ascensor                              NaN   \n",
       "2                              35 m²  Planta 4ª interior sin ascensor   \n",
       "3    Planta 4ª interior con ascensor                          22 ago    \n",
       "4                              40 m²       Bajo interior sin ascensor   \n",
       "..                               ...                              ...   \n",
       "558  Planta 1ª exterior sin ascensor                              NaN   \n",
       "559                            59 m²  Planta 1ª exterior con ascensor   \n",
       "560                            98 m²  Planta 6ª exterior con ascensor   \n",
       "561                            87 m²  Planta 1ª exterior con ascensor   \n",
       "562                           220 m²  Planta 5ª exterior con ascensor   \n",
       "\n",
       "                    link                                        description  \\\n",
       "0    /inmueble/95827954/  \n",
       "**ABSTENERSE AGENCIAS**\n",
       "PARTICULAR alquila co...   \n",
       "1    /inmueble/98504557/  \n",
       "Servicheck Alquila, información con Johana 67...   \n",
       "2    /inmueble/98643813/  \n",
       "DESCUBRE EL ALQUILER TEMPORAL CON PLANS IN PL...   \n",
       "3    /inmueble/98589983/  \n",
       "SERVICHECK ALQUILA:\n",
       "Para informacion y visita...   \n",
       "4    /inmueble/98643705/  \n",
       "Bajo\n",
       "1 dormitorio\n",
       "Amueblado\n",
       "Totalmente reform...   \n",
       "..                   ...                                                ...   \n",
       "558  /inmueble/91089733/     \n",
       "Aire acondicionado, parque recién reformado.\n",
       "   \n",
       "559  /inmueble/94651456/  \n",
       "Precioso apartamento recién pintado y listo p...   \n",
       "560  /inmueble/27957885/  \n",
       "Calidades de lujo. 2 dormitorios. Cocina tota...   \n",
       "561   /inmueble/1986527/  \n",
       "Abstenerse agencias comunidad incluida en el ...   \n",
       "562  /inmueble/95275218/  \n",
       "TODOS LOS GASTOS INCLUIDOS /MAD Housing alqui...   \n",
       "\n",
       "    neighborhood    type  \n",
       "0      La Latina  Studio  \n",
       "1      La Latina  Studio  \n",
       "2      La Latina    Flat  \n",
       "3      La Latina  Studio  \n",
       "4      La Latina    Flat  \n",
       "..           ...     ...  \n",
       "558    La Latina  Studio  \n",
       "559    La Latina    Flat  \n",
       "560    La Latina    Flat  \n",
       "561    La Latina    Flat  \n",
       "562    La Latina    Flat  \n",
       "\n",
       "[563 rows x 9 columns]"
      ]
     },
     "execution_count": 70,
     "metadata": {},
     "output_type": "execute_result"
    }
   ],
   "source": [
    "df"
   ]
  },
  {
   "cell_type": "code",
   "execution_count": 69,
   "id": "b806985e",
   "metadata": {
    "ExecuteTime": {
     "end_time": "2022-08-30T18:32:21.089592Z",
     "start_time": "2022-08-30T18:32:21.076581Z"
    }
   },
   "outputs": [
    {
     "data": {
      "text/plain": [
       "Flat        454\n",
       "whatever     32\n",
       "Attic        30\n",
       "Studio       26\n",
       "Duplex       21\n",
       "Name: type, dtype: int64"
      ]
     },
     "execution_count": 69,
     "metadata": {},
     "output_type": "execute_result"
    }
   ],
   "source": [
    "df['type'].value_counts()"
   ]
  },
  {
   "cell_type": "markdown",
   "id": "aa25fedf",
   "metadata": {},
   "source": [
    "# Drop the studio rows"
   ]
  },
  {
   "cell_type": "code",
   "execution_count": 72,
   "id": "fc83041d",
   "metadata": {
    "ExecuteTime": {
     "end_time": "2022-08-30T19:35:19.780230Z",
     "start_time": "2022-08-30T19:35:19.775221Z"
    }
   },
   "outputs": [],
   "source": [
    " df_try = df.loc[~(df['type'] == 'Studio')]"
   ]
  },
  {
   "cell_type": "code",
   "execution_count": 73,
   "id": "941b7e07",
   "metadata": {
    "ExecuteTime": {
     "end_time": "2022-08-30T19:35:27.957293Z",
     "start_time": "2022-08-30T19:35:27.935268Z"
    }
   },
   "outputs": [
    {
     "data": {
      "text/html": [
       "<div>\n",
       "<style scoped>\n",
       "    .dataframe tbody tr th:only-of-type {\n",
       "        vertical-align: middle;\n",
       "    }\n",
       "\n",
       "    .dataframe tbody tr th {\n",
       "        vertical-align: top;\n",
       "    }\n",
       "\n",
       "    .dataframe thead th {\n",
       "        text-align: right;\n",
       "    }\n",
       "</style>\n",
       "<table border=\"1\" class=\"dataframe\">\n",
       "  <thead>\n",
       "    <tr style=\"text-align: right;\">\n",
       "      <th></th>\n",
       "      <th>title</th>\n",
       "      <th>price</th>\n",
       "      <th>rooms</th>\n",
       "      <th>mtts</th>\n",
       "      <th>floor</th>\n",
       "      <th>link</th>\n",
       "      <th>description</th>\n",
       "      <th>neighborhood</th>\n",
       "      <th>type</th>\n",
       "    </tr>\n",
       "  </thead>\n",
       "  <tbody>\n",
       "    <tr>\n",
       "      <th>2</th>\n",
       "      <td>Piso en calle del Mediodía Grande, Palacio, Ma...</td>\n",
       "      <td>1.00</td>\n",
       "      <td>1 hab.</td>\n",
       "      <td>35 m²</td>\n",
       "      <td>Planta 4ª interior sin ascensor</td>\n",
       "      <td>/inmueble/98643813/</td>\n",
       "      <td>DESCUBRE EL ALQUILER TEMPORAL CON PLANS IN PL...</td>\n",
       "      <td>La Latina</td>\n",
       "      <td>Flat</td>\n",
       "    </tr>\n",
       "    <tr>\n",
       "      <th>4</th>\n",
       "      <td>Piso en Tabernilla, 3, Palacio, Madrid</td>\n",
       "      <td>800.00</td>\n",
       "      <td>1 hab.</td>\n",
       "      <td>40 m²</td>\n",
       "      <td>Bajo interior sin ascensor</td>\n",
       "      <td>/inmueble/98643705/</td>\n",
       "      <td>Bajo\n",
       "1 dormitorio\n",
       "Amueblado\n",
       "Totalmente reform...</td>\n",
       "      <td>La Latina</td>\n",
       "      <td>Flat</td>\n",
       "    </tr>\n",
       "    <tr>\n",
       "      <th>5</th>\n",
       "      <td>Dúplex en Sierpe, Palacio, Madrid</td>\n",
       "      <td>1.10</td>\n",
       "      <td>1 hab.</td>\n",
       "      <td>70 m²</td>\n",
       "      <td>Planta 5ª exterior sin ascensor</td>\n",
       "      <td>/inmueble/98601560/</td>\n",
       "      <td>¡SERVICHECK ALQUILA ESTUPENDO ÁTICO DUPLEX EN...</td>\n",
       "      <td>La Latina</td>\n",
       "      <td>Duplex</td>\n",
       "    </tr>\n",
       "    <tr>\n",
       "      <th>6</th>\n",
       "      <td>Piso en calle San Bernabé, 12, Palacio, Madrid</td>\n",
       "      <td>1.10</td>\n",
       "      <td>1 hab.</td>\n",
       "      <td>40 m²</td>\n",
       "      <td>Planta 3ª exterior sin ascensor</td>\n",
       "      <td>/inmueble/2144228/</td>\n",
       "      <td>Vale contacto whats up. DISPONIBLE DESDE 12 S...</td>\n",
       "      <td>La Latina</td>\n",
       "      <td>Flat</td>\n",
       "    </tr>\n",
       "    <tr>\n",
       "      <th>7</th>\n",
       "      <td>Piso en calle Calatrava, Palacio, Madrid</td>\n",
       "      <td>1.10</td>\n",
       "      <td>1 hab.</td>\n",
       "      <td>45 m²</td>\n",
       "      <td>Planta 7ª interior con ascensor</td>\n",
       "      <td>/inmueble/96243569/</td>\n",
       "      <td>**DISPONIBLE 01 AGOSTO* ALQUILER TEMPORAL DE ...</td>\n",
       "      <td>La Latina</td>\n",
       "      <td>Flat</td>\n",
       "    </tr>\n",
       "    <tr>\n",
       "      <th>...</th>\n",
       "      <td>...</td>\n",
       "      <td>...</td>\n",
       "      <td>...</td>\n",
       "      <td>...</td>\n",
       "      <td>...</td>\n",
       "      <td>...</td>\n",
       "      <td>...</td>\n",
       "      <td>...</td>\n",
       "      <td>...</td>\n",
       "    </tr>\n",
       "    <tr>\n",
       "      <th>557</th>\n",
       "      <td>Piso en calle de Arcos de la Frontera, 4, Arav...</td>\n",
       "      <td>1.15</td>\n",
       "      <td>2 hab.</td>\n",
       "      <td>55 m²</td>\n",
       "      <td>Planta 1ª exterior con ascensor</td>\n",
       "      <td>/inmueble/91658241/</td>\n",
       "      <td>Apartamento soleado en Urb. de lujo con pisci...</td>\n",
       "      <td>La Latina</td>\n",
       "      <td>Flat</td>\n",
       "    </tr>\n",
       "    <tr>\n",
       "      <th>559</th>\n",
       "      <td>Piso en avenida del Talgo, 220, Aravaca, Madrid</td>\n",
       "      <td>1.80</td>\n",
       "      <td>1 hab.</td>\n",
       "      <td>59 m²</td>\n",
       "      <td>Planta 1ª exterior con ascensor</td>\n",
       "      <td>/inmueble/94651456/</td>\n",
       "      <td>Precioso apartamento recién pintado y listo p...</td>\n",
       "      <td>La Latina</td>\n",
       "      <td>Flat</td>\n",
       "    </tr>\n",
       "    <tr>\n",
       "      <th>560</th>\n",
       "      <td>Piso en calle San Restituto, 51, Valdezarza, M...</td>\n",
       "      <td>1.80</td>\n",
       "      <td>2 hab.</td>\n",
       "      <td>98 m²</td>\n",
       "      <td>Planta 6ª exterior con ascensor</td>\n",
       "      <td>/inmueble/27957885/</td>\n",
       "      <td>Calidades de lujo. 2 dormitorios. Cocina tota...</td>\n",
       "      <td>La Latina</td>\n",
       "      <td>Flat</td>\n",
       "    </tr>\n",
       "    <tr>\n",
       "      <th>561</th>\n",
       "      <td>Piso en calle Isla de Oza, 76, Ciudad Universi...</td>\n",
       "      <td>1.50</td>\n",
       "      <td>3 hab.</td>\n",
       "      <td>87 m²</td>\n",
       "      <td>Planta 1ª exterior con ascensor</td>\n",
       "      <td>/inmueble/1986527/</td>\n",
       "      <td>Abstenerse agencias comunidad incluida en el ...</td>\n",
       "      <td>La Latina</td>\n",
       "      <td>Flat</td>\n",
       "    </tr>\n",
       "    <tr>\n",
       "      <th>562</th>\n",
       "      <td>Piso en calle del Tutor, Argüelles, Madrid</td>\n",
       "      <td>3.40</td>\n",
       "      <td>6 hab.</td>\n",
       "      <td>220 m²</td>\n",
       "      <td>Planta 5ª exterior con ascensor</td>\n",
       "      <td>/inmueble/95275218/</td>\n",
       "      <td>TODOS LOS GASTOS INCLUIDOS /MAD Housing alqui...</td>\n",
       "      <td>La Latina</td>\n",
       "      <td>Flat</td>\n",
       "    </tr>\n",
       "  </tbody>\n",
       "</table>\n",
       "<p>537 rows × 9 columns</p>\n",
       "</div>"
      ],
      "text/plain": [
       "                                                 title   price   rooms  \\\n",
       "2    Piso en calle del Mediodía Grande, Palacio, Ma...    1.00  1 hab.   \n",
       "4               Piso en Tabernilla, 3, Palacio, Madrid  800.00  1 hab.   \n",
       "5                    Dúplex en Sierpe, Palacio, Madrid    1.10  1 hab.   \n",
       "6       Piso en calle San Bernabé, 12, Palacio, Madrid    1.10  1 hab.   \n",
       "7             Piso en calle Calatrava, Palacio, Madrid    1.10  1 hab.   \n",
       "..                                                 ...     ...     ...   \n",
       "557  Piso en calle de Arcos de la Frontera, 4, Arav...    1.15  2 hab.   \n",
       "559    Piso en avenida del Talgo, 220, Aravaca, Madrid    1.80  1 hab.   \n",
       "560  Piso en calle San Restituto, 51, Valdezarza, M...    1.80  2 hab.   \n",
       "561  Piso en calle Isla de Oza, 76, Ciudad Universi...    1.50  3 hab.   \n",
       "562         Piso en calle del Tutor, Argüelles, Madrid    3.40  6 hab.   \n",
       "\n",
       "       mtts                            floor                 link  \\\n",
       "2     35 m²  Planta 4ª interior sin ascensor  /inmueble/98643813/   \n",
       "4     40 m²       Bajo interior sin ascensor  /inmueble/98643705/   \n",
       "5     70 m²  Planta 5ª exterior sin ascensor  /inmueble/98601560/   \n",
       "6     40 m²  Planta 3ª exterior sin ascensor   /inmueble/2144228/   \n",
       "7     45 m²  Planta 7ª interior con ascensor  /inmueble/96243569/   \n",
       "..      ...                              ...                  ...   \n",
       "557   55 m²  Planta 1ª exterior con ascensor  /inmueble/91658241/   \n",
       "559   59 m²  Planta 1ª exterior con ascensor  /inmueble/94651456/   \n",
       "560   98 m²  Planta 6ª exterior con ascensor  /inmueble/27957885/   \n",
       "561   87 m²  Planta 1ª exterior con ascensor   /inmueble/1986527/   \n",
       "562  220 m²  Planta 5ª exterior con ascensor  /inmueble/95275218/   \n",
       "\n",
       "                                           description neighborhood    type  \n",
       "2    \n",
       "DESCUBRE EL ALQUILER TEMPORAL CON PLANS IN PL...    La Latina    Flat  \n",
       "4    \n",
       "Bajo\n",
       "1 dormitorio\n",
       "Amueblado\n",
       "Totalmente reform...    La Latina    Flat  \n",
       "5    \n",
       "¡SERVICHECK ALQUILA ESTUPENDO ÁTICO DUPLEX EN...    La Latina  Duplex  \n",
       "6    \n",
       "Vale contacto whats up. DISPONIBLE DESDE 12 S...    La Latina    Flat  \n",
       "7    \n",
       "**DISPONIBLE 01 AGOSTO* ALQUILER TEMPORAL DE ...    La Latina    Flat  \n",
       "..                                                 ...          ...     ...  \n",
       "557  \n",
       "Apartamento soleado en Urb. de lujo con pisci...    La Latina    Flat  \n",
       "559  \n",
       "Precioso apartamento recién pintado y listo p...    La Latina    Flat  \n",
       "560  \n",
       "Calidades de lujo. 2 dormitorios. Cocina tota...    La Latina    Flat  \n",
       "561  \n",
       "Abstenerse agencias comunidad incluida en el ...    La Latina    Flat  \n",
       "562  \n",
       "TODOS LOS GASTOS INCLUIDOS /MAD Housing alqui...    La Latina    Flat  \n",
       "\n",
       "[537 rows x 9 columns]"
      ]
     },
     "execution_count": 73,
     "metadata": {},
     "output_type": "execute_result"
    }
   ],
   "source": [
    "df_try"
   ]
  },
  {
   "cell_type": "markdown",
   "id": "48969516",
   "metadata": {},
   "source": [
    "# Removing the m2 in mtts"
   ]
  },
  {
   "cell_type": "code",
   "execution_count": 90,
   "id": "17832821",
   "metadata": {
    "ExecuteTime": {
     "end_time": "2022-08-28T13:53:14.109885Z",
     "start_time": "2022-08-28T13:53:14.077168Z"
    }
   },
   "outputs": [
    {
     "name": "stderr",
     "output_type": "stream",
     "text": [
      "C:\\Users\\cex\\AppData\\Local\\Temp\\ipykernel_16992\\3644806740.py:1: FutureWarning: The default value of regex will change from True to False in a future version.\n",
      "  df['mtts'] = df['mtts'].str.replace(r'\\D', '') # This regex removes all non numeric values\n"
     ]
    }
   ],
   "source": [
    "df['mtts'] = df['mtts'].str.replace(r'\\D', '') # This regex removes all non numeric values"
   ]
  },
  {
   "cell_type": "code",
   "execution_count": 91,
   "id": "c32aacf4",
   "metadata": {
    "ExecuteTime": {
     "end_time": "2022-08-28T13:53:16.813157Z",
     "start_time": "2022-08-28T13:53:16.785152Z"
    }
   },
   "outputs": [
    {
     "data": {
      "text/html": [
       "<div>\n",
       "<style scoped>\n",
       "    .dataframe tbody tr th:only-of-type {\n",
       "        vertical-align: middle;\n",
       "    }\n",
       "\n",
       "    .dataframe tbody tr th {\n",
       "        vertical-align: top;\n",
       "    }\n",
       "\n",
       "    .dataframe thead th {\n",
       "        text-align: right;\n",
       "    }\n",
       "</style>\n",
       "<table border=\"1\" class=\"dataframe\">\n",
       "  <thead>\n",
       "    <tr style=\"text-align: right;\">\n",
       "      <th></th>\n",
       "      <th>title</th>\n",
       "      <th>price</th>\n",
       "      <th>rooms</th>\n",
       "      <th>mtts</th>\n",
       "      <th>floor</th>\n",
       "      <th>link</th>\n",
       "      <th>description</th>\n",
       "      <th>neighborhood</th>\n",
       "      <th>furnitare</th>\n",
       "      <th>C</th>\n",
       "      <th>mask</th>\n",
       "    </tr>\n",
       "  </thead>\n",
       "  <tbody>\n",
       "    <tr>\n",
       "      <th>0</th>\n",
       "      <td>Estudio en calle del Águila, 14, Palacio, Madrid</td>\n",
       "      <td>625.0</td>\n",
       "      <td>22 m²</td>\n",
       "      <td>3</td>\n",
       "      <td>3 horas</td>\n",
       "      <td>/inmueble/95827954/</td>\n",
       "      <td>**ABSTENERSE AGENCIAS**\n",
       "PARTICULAR alquila co...</td>\n",
       "      <td>La Latina</td>\n",
       "      <td>False</td>\n",
       "      <td>True</td>\n",
       "      <td>False</td>\n",
       "    </tr>\n",
       "    <tr>\n",
       "      <th>1</th>\n",
       "      <td>Estudio en calle del Mediodía Chica, Palacio, ...</td>\n",
       "      <td>875.0</td>\n",
       "      <td>40 m²</td>\n",
       "      <td></td>\n",
       "      <td>NaN</td>\n",
       "      <td>/inmueble/98504557/</td>\n",
       "      <td>Servicheck Alquila, información con Johana 67...</td>\n",
       "      <td>La Latina</td>\n",
       "      <td>False</td>\n",
       "      <td>True</td>\n",
       "      <td>False</td>\n",
       "    </tr>\n",
       "    <tr>\n",
       "      <th>2</th>\n",
       "      <td>Piso en calle del Mediodía Grande, Palacio, Ma...</td>\n",
       "      <td>1.0</td>\n",
       "      <td>1 hab.</td>\n",
       "      <td>35</td>\n",
       "      <td>Planta 4ª interior sin ascensor</td>\n",
       "      <td>/inmueble/98643813/</td>\n",
       "      <td>DESCUBRE EL ALQUILER TEMPORAL CON PLANS IN PL...</td>\n",
       "      <td>La Latina</td>\n",
       "      <td>False</td>\n",
       "      <td>True</td>\n",
       "      <td>False</td>\n",
       "    </tr>\n",
       "    <tr>\n",
       "      <th>3</th>\n",
       "      <td>Estudio en calle de Toledo, Lavapiés-Embajador...</td>\n",
       "      <td>670.0</td>\n",
       "      <td>20 m²</td>\n",
       "      <td>4</td>\n",
       "      <td>22 ago</td>\n",
       "      <td>/inmueble/98589983/</td>\n",
       "      <td>SERVICHECK ALQUILA:\n",
       "Para informacion y visita...</td>\n",
       "      <td>La Latina</td>\n",
       "      <td>False</td>\n",
       "      <td>True</td>\n",
       "      <td>False</td>\n",
       "    </tr>\n",
       "    <tr>\n",
       "      <th>4</th>\n",
       "      <td>Piso en Tabernilla, 3, Palacio, Madrid</td>\n",
       "      <td>800.0</td>\n",
       "      <td>1 hab.</td>\n",
       "      <td>40</td>\n",
       "      <td>Bajo interior sin ascensor</td>\n",
       "      <td>/inmueble/98643705/</td>\n",
       "      <td>Bajo\n",
       "1 dormitorio\n",
       "Amueblado\n",
       "Totalmente reform...</td>\n",
       "      <td>La Latina</td>\n",
       "      <td>False</td>\n",
       "      <td>True</td>\n",
       "      <td>False</td>\n",
       "    </tr>\n",
       "    <tr>\n",
       "      <th>...</th>\n",
       "      <td>...</td>\n",
       "      <td>...</td>\n",
       "      <td>...</td>\n",
       "      <td>...</td>\n",
       "      <td>...</td>\n",
       "      <td>...</td>\n",
       "      <td>...</td>\n",
       "      <td>...</td>\n",
       "      <td>...</td>\n",
       "      <td>...</td>\n",
       "      <td>...</td>\n",
       "    </tr>\n",
       "    <tr>\n",
       "      <th>558</th>\n",
       "      <td>Estudio en avenida de la Osa Mayor, 57, Aravac...</td>\n",
       "      <td>750.0</td>\n",
       "      <td>55 m²</td>\n",
       "      <td>1</td>\n",
       "      <td>NaN</td>\n",
       "      <td>/inmueble/91089733/</td>\n",
       "      <td>Aire acondicionado, parque recién reformado.</td>\n",
       "      <td>La Latina</td>\n",
       "      <td>False</td>\n",
       "      <td>True</td>\n",
       "      <td>False</td>\n",
       "    </tr>\n",
       "    <tr>\n",
       "      <th>559</th>\n",
       "      <td>Piso en avenida del Talgo, 220, Aravaca, Madrid</td>\n",
       "      <td>1.8</td>\n",
       "      <td>1 hab.</td>\n",
       "      <td>59</td>\n",
       "      <td>Planta 1ª exterior con ascensor</td>\n",
       "      <td>/inmueble/94651456/</td>\n",
       "      <td>Precioso apartamento recién pintado y listo p...</td>\n",
       "      <td>La Latina</td>\n",
       "      <td>False</td>\n",
       "      <td>True</td>\n",
       "      <td>True</td>\n",
       "    </tr>\n",
       "    <tr>\n",
       "      <th>560</th>\n",
       "      <td>Piso en calle San Restituto, 51, Valdezarza, M...</td>\n",
       "      <td>1.8</td>\n",
       "      <td>2 hab.</td>\n",
       "      <td>98</td>\n",
       "      <td>Planta 6ª exterior con ascensor</td>\n",
       "      <td>/inmueble/27957885/</td>\n",
       "      <td>Calidades de lujo. 2 dormitorios. Cocina tota...</td>\n",
       "      <td>La Latina</td>\n",
       "      <td>False</td>\n",
       "      <td>True</td>\n",
       "      <td>False</td>\n",
       "    </tr>\n",
       "    <tr>\n",
       "      <th>561</th>\n",
       "      <td>Piso en calle Isla de Oza, 76, Ciudad Universi...</td>\n",
       "      <td>1.5</td>\n",
       "      <td>3 hab.</td>\n",
       "      <td>87</td>\n",
       "      <td>Planta 1ª exterior con ascensor</td>\n",
       "      <td>/inmueble/1986527/</td>\n",
       "      <td>Abstenerse agencias comunidad incluida en el ...</td>\n",
       "      <td>La Latina</td>\n",
       "      <td>False</td>\n",
       "      <td>True</td>\n",
       "      <td>False</td>\n",
       "    </tr>\n",
       "    <tr>\n",
       "      <th>562</th>\n",
       "      <td>Piso en calle del Tutor, Argüelles, Madrid</td>\n",
       "      <td>3.4</td>\n",
       "      <td>6 hab.</td>\n",
       "      <td>220</td>\n",
       "      <td>Planta 5ª exterior con ascensor</td>\n",
       "      <td>/inmueble/95275218/</td>\n",
       "      <td>TODOS LOS GASTOS INCLUIDOS /MAD Housing alqui...</td>\n",
       "      <td>La Latina</td>\n",
       "      <td>False</td>\n",
       "      <td>True</td>\n",
       "      <td>False</td>\n",
       "    </tr>\n",
       "  </tbody>\n",
       "</table>\n",
       "<p>563 rows × 11 columns</p>\n",
       "</div>"
      ],
      "text/plain": [
       "                                                 title  price   rooms mtts  \\\n",
       "0     Estudio en calle del Águila, 14, Palacio, Madrid  625.0   22 m²    3   \n",
       "1    Estudio en calle del Mediodía Chica, Palacio, ...  875.0   40 m²        \n",
       "2    Piso en calle del Mediodía Grande, Palacio, Ma...    1.0  1 hab.   35   \n",
       "3    Estudio en calle de Toledo, Lavapiés-Embajador...  670.0   20 m²    4   \n",
       "4               Piso en Tabernilla, 3, Palacio, Madrid  800.0  1 hab.   40   \n",
       "..                                                 ...    ...     ...  ...   \n",
       "558  Estudio en avenida de la Osa Mayor, 57, Aravac...  750.0   55 m²    1   \n",
       "559    Piso en avenida del Talgo, 220, Aravaca, Madrid    1.8  1 hab.   59   \n",
       "560  Piso en calle San Restituto, 51, Valdezarza, M...    1.8  2 hab.   98   \n",
       "561  Piso en calle Isla de Oza, 76, Ciudad Universi...    1.5  3 hab.   87   \n",
       "562         Piso en calle del Tutor, Argüelles, Madrid    3.4  6 hab.  220   \n",
       "\n",
       "                               floor                 link  \\\n",
       "0                            3 horas  /inmueble/95827954/   \n",
       "1                                NaN  /inmueble/98504557/   \n",
       "2    Planta 4ª interior sin ascensor  /inmueble/98643813/   \n",
       "3                            22 ago   /inmueble/98589983/   \n",
       "4         Bajo interior sin ascensor  /inmueble/98643705/   \n",
       "..                               ...                  ...   \n",
       "558                              NaN  /inmueble/91089733/   \n",
       "559  Planta 1ª exterior con ascensor  /inmueble/94651456/   \n",
       "560  Planta 6ª exterior con ascensor  /inmueble/27957885/   \n",
       "561  Planta 1ª exterior con ascensor   /inmueble/1986527/   \n",
       "562  Planta 5ª exterior con ascensor  /inmueble/95275218/   \n",
       "\n",
       "                                           description neighborhood  \\\n",
       "0    \n",
       "**ABSTENERSE AGENCIAS**\n",
       "PARTICULAR alquila co...    La Latina   \n",
       "1    \n",
       "Servicheck Alquila, información con Johana 67...    La Latina   \n",
       "2    \n",
       "DESCUBRE EL ALQUILER TEMPORAL CON PLANS IN PL...    La Latina   \n",
       "3    \n",
       "SERVICHECK ALQUILA:\n",
       "Para informacion y visita...    La Latina   \n",
       "4    \n",
       "Bajo\n",
       "1 dormitorio\n",
       "Amueblado\n",
       "Totalmente reform...    La Latina   \n",
       "..                                                 ...          ...   \n",
       "558     \n",
       "Aire acondicionado, parque recién reformado.\n",
       "    La Latina   \n",
       "559  \n",
       "Precioso apartamento recién pintado y listo p...    La Latina   \n",
       "560  \n",
       "Calidades de lujo. 2 dormitorios. Cocina tota...    La Latina   \n",
       "561  \n",
       "Abstenerse agencias comunidad incluida en el ...    La Latina   \n",
       "562  \n",
       "TODOS LOS GASTOS INCLUIDOS /MAD Housing alqui...    La Latina   \n",
       "\n",
       "     furnitare     C   mask  \n",
       "0        False  True  False  \n",
       "1        False  True  False  \n",
       "2        False  True  False  \n",
       "3        False  True  False  \n",
       "4        False  True  False  \n",
       "..         ...   ...    ...  \n",
       "558      False  True  False  \n",
       "559      False  True   True  \n",
       "560      False  True  False  \n",
       "561      False  True  False  \n",
       "562      False  True  False  \n",
       "\n",
       "[563 rows x 11 columns]"
      ]
     },
     "execution_count": 91,
     "metadata": {},
     "output_type": "execute_result"
    }
   ],
   "source": []
  },
  {
   "cell_type": "markdown",
   "id": "2d058c2b",
   "metadata": {},
   "source": [
    "# Removing the hab in rooms"
   ]
  },
  {
   "cell_type": "code",
   "execution_count": 130,
   "id": "f3da6977",
   "metadata": {
    "ExecuteTime": {
     "end_time": "2022-08-28T15:30:52.881128Z",
     "start_time": "2022-08-28T15:30:52.851117Z"
    }
   },
   "outputs": [
    {
     "name": "stderr",
     "output_type": "stream",
     "text": [
      "C:\\Users\\cex\\AppData\\Local\\Temp\\ipykernel_16992\\309226927.py:1: FutureWarning: The default value of regex will change from True to False in a future version.\n",
      "  df['rooms'] = df['rooms'].str.replace(r'\\D', '') # This regex removes all non numeric values\n"
     ]
    }
   ],
   "source": [
    "df['rooms'] = df['rooms'].str.replace(r'\\D', '') # This regex removes all non numeric values"
   ]
  },
  {
   "cell_type": "code",
   "execution_count": 131,
   "id": "8b3414ed",
   "metadata": {
    "ExecuteTime": {
     "end_time": "2022-08-28T15:30:55.968252Z",
     "start_time": "2022-08-28T15:30:55.947229Z"
    }
   },
   "outputs": [
    {
     "data": {
      "text/html": [
       "<div>\n",
       "<style scoped>\n",
       "    .dataframe tbody tr th:only-of-type {\n",
       "        vertical-align: middle;\n",
       "    }\n",
       "\n",
       "    .dataframe tbody tr th {\n",
       "        vertical-align: top;\n",
       "    }\n",
       "\n",
       "    .dataframe thead th {\n",
       "        text-align: right;\n",
       "    }\n",
       "</style>\n",
       "<table border=\"1\" class=\"dataframe\">\n",
       "  <thead>\n",
       "    <tr style=\"text-align: right;\">\n",
       "      <th></th>\n",
       "      <th>title</th>\n",
       "      <th>price</th>\n",
       "      <th>rooms</th>\n",
       "      <th>mtts</th>\n",
       "      <th>floor</th>\n",
       "      <th>link</th>\n",
       "      <th>description</th>\n",
       "      <th>neighborhood</th>\n",
       "    </tr>\n",
       "  </thead>\n",
       "  <tbody>\n",
       "    <tr>\n",
       "      <th>0</th>\n",
       "      <td>Estudio en calle del Águila, 14, Palacio, Madrid</td>\n",
       "      <td>625.0</td>\n",
       "      <td>22</td>\n",
       "      <td>Planta 3ª interior con ascensor</td>\n",
       "      <td>3 horas</td>\n",
       "      <td>/inmueble/95827954/</td>\n",
       "      <td>\\n**ABSTENERSE AGENCIAS**\\nPARTICULAR alquila ...</td>\n",
       "      <td>La Latina</td>\n",
       "    </tr>\n",
       "    <tr>\n",
       "      <th>1</th>\n",
       "      <td>Estudio en calle del Mediodía Chica, Palacio, ...</td>\n",
       "      <td>875.0</td>\n",
       "      <td>40</td>\n",
       "      <td>Bajo interior sin ascensor</td>\n",
       "      <td>NaN</td>\n",
       "      <td>/inmueble/98504557/</td>\n",
       "      <td>\\nServicheck Alquila, información con Johana 6...</td>\n",
       "      <td>La Latina</td>\n",
       "    </tr>\n",
       "    <tr>\n",
       "      <th>2</th>\n",
       "      <td>Piso en calle del Mediodía Grande, Palacio, Ma...</td>\n",
       "      <td>1.0</td>\n",
       "      <td>1</td>\n",
       "      <td>35 m²</td>\n",
       "      <td>Planta 4ª interior sin ascensor</td>\n",
       "      <td>/inmueble/98643813/</td>\n",
       "      <td>\\nDESCUBRE EL ALQUILER TEMPORAL CON PLANS IN P...</td>\n",
       "      <td>La Latina</td>\n",
       "    </tr>\n",
       "    <tr>\n",
       "      <th>3</th>\n",
       "      <td>Estudio en calle de Toledo, Lavapiés-Embajador...</td>\n",
       "      <td>670.0</td>\n",
       "      <td>20</td>\n",
       "      <td>Planta 4ª interior con ascensor</td>\n",
       "      <td>22 ago</td>\n",
       "      <td>/inmueble/98589983/</td>\n",
       "      <td>\\nSERVICHECK ALQUILA:\\nPara informacion y visi...</td>\n",
       "      <td>La Latina</td>\n",
       "    </tr>\n",
       "    <tr>\n",
       "      <th>4</th>\n",
       "      <td>Piso en Tabernilla, 3, Palacio, Madrid</td>\n",
       "      <td>800.0</td>\n",
       "      <td>1</td>\n",
       "      <td>40 m²</td>\n",
       "      <td>Bajo interior sin ascensor</td>\n",
       "      <td>/inmueble/98643705/</td>\n",
       "      <td>\\nBajo\\n1 dormitorio\\nAmueblado\\nTotalmente re...</td>\n",
       "      <td>La Latina</td>\n",
       "    </tr>\n",
       "    <tr>\n",
       "      <th>...</th>\n",
       "      <td>...</td>\n",
       "      <td>...</td>\n",
       "      <td>...</td>\n",
       "      <td>...</td>\n",
       "      <td>...</td>\n",
       "      <td>...</td>\n",
       "      <td>...</td>\n",
       "      <td>...</td>\n",
       "    </tr>\n",
       "    <tr>\n",
       "      <th>558</th>\n",
       "      <td>Estudio en avenida de la Osa Mayor, 57, Aravac...</td>\n",
       "      <td>750.0</td>\n",
       "      <td>55</td>\n",
       "      <td>Planta 1ª exterior sin ascensor</td>\n",
       "      <td>NaN</td>\n",
       "      <td>/inmueble/91089733/</td>\n",
       "      <td>\\nAire acondicionado, parque recién reformado.\\n</td>\n",
       "      <td>La Latina</td>\n",
       "    </tr>\n",
       "    <tr>\n",
       "      <th>559</th>\n",
       "      <td>Piso en avenida del Talgo, 220, Aravaca, Madrid</td>\n",
       "      <td>1.8</td>\n",
       "      <td>1</td>\n",
       "      <td>59 m²</td>\n",
       "      <td>Planta 1ª exterior con ascensor</td>\n",
       "      <td>/inmueble/94651456/</td>\n",
       "      <td>\\nPrecioso apartamento recién pintado y listo ...</td>\n",
       "      <td>La Latina</td>\n",
       "    </tr>\n",
       "    <tr>\n",
       "      <th>560</th>\n",
       "      <td>Piso en calle San Restituto, 51, Valdezarza, M...</td>\n",
       "      <td>1.8</td>\n",
       "      <td>2</td>\n",
       "      <td>98 m²</td>\n",
       "      <td>Planta 6ª exterior con ascensor</td>\n",
       "      <td>/inmueble/27957885/</td>\n",
       "      <td>\\nCalidades de lujo. 2 dormitorios. Cocina tot...</td>\n",
       "      <td>La Latina</td>\n",
       "    </tr>\n",
       "    <tr>\n",
       "      <th>561</th>\n",
       "      <td>Piso en calle Isla de Oza, 76, Ciudad Universi...</td>\n",
       "      <td>1.5</td>\n",
       "      <td>3</td>\n",
       "      <td>87 m²</td>\n",
       "      <td>Planta 1ª exterior con ascensor</td>\n",
       "      <td>/inmueble/1986527/</td>\n",
       "      <td>\\nAbstenerse agencias comunidad incluida en el...</td>\n",
       "      <td>La Latina</td>\n",
       "    </tr>\n",
       "    <tr>\n",
       "      <th>562</th>\n",
       "      <td>Piso en calle del Tutor, Argüelles, Madrid</td>\n",
       "      <td>3.4</td>\n",
       "      <td>6</td>\n",
       "      <td>220 m²</td>\n",
       "      <td>Planta 5ª exterior con ascensor</td>\n",
       "      <td>/inmueble/95275218/</td>\n",
       "      <td>\\nTODOS LOS GASTOS INCLUIDOS /MAD Housing alqu...</td>\n",
       "      <td>La Latina</td>\n",
       "    </tr>\n",
       "  </tbody>\n",
       "</table>\n",
       "<p>563 rows × 8 columns</p>\n",
       "</div>"
      ],
      "text/plain": [
       "                                                 title  price rooms  \\\n",
       "0     Estudio en calle del Águila, 14, Palacio, Madrid  625.0    22   \n",
       "1    Estudio en calle del Mediodía Chica, Palacio, ...  875.0    40   \n",
       "2    Piso en calle del Mediodía Grande, Palacio, Ma...    1.0     1   \n",
       "3    Estudio en calle de Toledo, Lavapiés-Embajador...  670.0    20   \n",
       "4               Piso en Tabernilla, 3, Palacio, Madrid  800.0     1   \n",
       "..                                                 ...    ...   ...   \n",
       "558  Estudio en avenida de la Osa Mayor, 57, Aravac...  750.0    55   \n",
       "559    Piso en avenida del Talgo, 220, Aravaca, Madrid    1.8     1   \n",
       "560  Piso en calle San Restituto, 51, Valdezarza, M...    1.8     2   \n",
       "561  Piso en calle Isla de Oza, 76, Ciudad Universi...    1.5     3   \n",
       "562         Piso en calle del Tutor, Argüelles, Madrid    3.4     6   \n",
       "\n",
       "                                mtts                            floor  \\\n",
       "0    Planta 3ª interior con ascensor                          3 horas   \n",
       "1         Bajo interior sin ascensor                              NaN   \n",
       "2                              35 m²  Planta 4ª interior sin ascensor   \n",
       "3    Planta 4ª interior con ascensor                          22 ago    \n",
       "4                              40 m²       Bajo interior sin ascensor   \n",
       "..                               ...                              ...   \n",
       "558  Planta 1ª exterior sin ascensor                              NaN   \n",
       "559                            59 m²  Planta 1ª exterior con ascensor   \n",
       "560                            98 m²  Planta 6ª exterior con ascensor   \n",
       "561                            87 m²  Planta 1ª exterior con ascensor   \n",
       "562                           220 m²  Planta 5ª exterior con ascensor   \n",
       "\n",
       "                    link                                        description  \\\n",
       "0    /inmueble/95827954/  \\n**ABSTENERSE AGENCIAS**\\nPARTICULAR alquila ...   \n",
       "1    /inmueble/98504557/  \\nServicheck Alquila, información con Johana 6...   \n",
       "2    /inmueble/98643813/  \\nDESCUBRE EL ALQUILER TEMPORAL CON PLANS IN P...   \n",
       "3    /inmueble/98589983/  \\nSERVICHECK ALQUILA:\\nPara informacion y visi...   \n",
       "4    /inmueble/98643705/  \\nBajo\\n1 dormitorio\\nAmueblado\\nTotalmente re...   \n",
       "..                   ...                                                ...   \n",
       "558  /inmueble/91089733/   \\nAire acondicionado, parque recién reformado.\\n   \n",
       "559  /inmueble/94651456/  \\nPrecioso apartamento recién pintado y listo ...   \n",
       "560  /inmueble/27957885/  \\nCalidades de lujo. 2 dormitorios. Cocina tot...   \n",
       "561   /inmueble/1986527/  \\nAbstenerse agencias comunidad incluida en el...   \n",
       "562  /inmueble/95275218/  \\nTODOS LOS GASTOS INCLUIDOS /MAD Housing alqu...   \n",
       "\n",
       "    neighborhood  \n",
       "0      La Latina  \n",
       "1      La Latina  \n",
       "2      La Latina  \n",
       "3      La Latina  \n",
       "4      La Latina  \n",
       "..           ...  \n",
       "558    La Latina  \n",
       "559    La Latina  \n",
       "560    La Latina  \n",
       "561    La Latina  \n",
       "562    La Latina  \n",
       "\n",
       "[563 rows x 8 columns]"
      ]
     },
     "execution_count": 131,
     "metadata": {},
     "output_type": "execute_result"
    }
   ],
   "source": [
    "df"
   ]
  },
  {
   "cell_type": "markdown",
   "id": "8218de6c",
   "metadata": {},
   "source": [
    "# adding the rest of the URL to the link part"
   ]
  },
  {
   "cell_type": "code",
   "execution_count": 106,
   "id": "60c88ca3",
   "metadata": {
    "ExecuteTime": {
     "end_time": "2022-08-28T14:08:09.347033Z",
     "start_time": "2022-08-28T14:08:09.329022Z"
    }
   },
   "outputs": [
    {
     "data": {
      "text/html": [
       "<div>\n",
       "<style scoped>\n",
       "    .dataframe tbody tr th:only-of-type {\n",
       "        vertical-align: middle;\n",
       "    }\n",
       "\n",
       "    .dataframe tbody tr th {\n",
       "        vertical-align: top;\n",
       "    }\n",
       "\n",
       "    .dataframe thead th {\n",
       "        text-align: right;\n",
       "    }\n",
       "</style>\n",
       "<table border=\"1\" class=\"dataframe\">\n",
       "  <thead>\n",
       "    <tr style=\"text-align: right;\">\n",
       "      <th></th>\n",
       "      <th>title</th>\n",
       "      <th>price</th>\n",
       "      <th>rooms</th>\n",
       "      <th>mtts</th>\n",
       "      <th>floor</th>\n",
       "      <th>link</th>\n",
       "      <th>description</th>\n",
       "      <th>neighborhood</th>\n",
       "    </tr>\n",
       "  </thead>\n",
       "  <tbody>\n",
       "    <tr>\n",
       "      <th>0</th>\n",
       "      <td>Estudio en calle del Águila, 14, Palacio, Madrid</td>\n",
       "      <td>625.0</td>\n",
       "      <td>22 m²</td>\n",
       "      <td>Planta 3ª interior con ascensor</td>\n",
       "      <td>3 horas</td>\n",
       "      <td>www.idealista.com/inmueble/95827954/</td>\n",
       "      <td>\\n**ABSTENERSE AGENCIAS**\\nPARTICULAR alquila ...</td>\n",
       "      <td>La Latina</td>\n",
       "    </tr>\n",
       "    <tr>\n",
       "      <th>1</th>\n",
       "      <td>Estudio en calle del Mediodía Chica, Palacio, ...</td>\n",
       "      <td>875.0</td>\n",
       "      <td>40 m²</td>\n",
       "      <td>Bajo interior sin ascensor</td>\n",
       "      <td>NaN</td>\n",
       "      <td>www.idealista.com/inmueble/98504557/</td>\n",
       "      <td>\\nServicheck Alquila, información con Johana 6...</td>\n",
       "      <td>La Latina</td>\n",
       "    </tr>\n",
       "    <tr>\n",
       "      <th>2</th>\n",
       "      <td>Piso en calle del Mediodía Grande, Palacio, Ma...</td>\n",
       "      <td>1.0</td>\n",
       "      <td>1 hab.</td>\n",
       "      <td>35 m²</td>\n",
       "      <td>Planta 4ª interior sin ascensor</td>\n",
       "      <td>www.idealista.com/inmueble/98643813/</td>\n",
       "      <td>\\nDESCUBRE EL ALQUILER TEMPORAL CON PLANS IN P...</td>\n",
       "      <td>La Latina</td>\n",
       "    </tr>\n",
       "    <tr>\n",
       "      <th>3</th>\n",
       "      <td>Estudio en calle de Toledo, Lavapiés-Embajador...</td>\n",
       "      <td>670.0</td>\n",
       "      <td>20 m²</td>\n",
       "      <td>Planta 4ª interior con ascensor</td>\n",
       "      <td>22 ago</td>\n",
       "      <td>www.idealista.com/inmueble/98589983/</td>\n",
       "      <td>\\nSERVICHECK ALQUILA:\\nPara informacion y visi...</td>\n",
       "      <td>La Latina</td>\n",
       "    </tr>\n",
       "    <tr>\n",
       "      <th>4</th>\n",
       "      <td>Piso en Tabernilla, 3, Palacio, Madrid</td>\n",
       "      <td>800.0</td>\n",
       "      <td>1 hab.</td>\n",
       "      <td>40 m²</td>\n",
       "      <td>Bajo interior sin ascensor</td>\n",
       "      <td>www.idealista.com/inmueble/98643705/</td>\n",
       "      <td>\\nBajo\\n1 dormitorio\\nAmueblado\\nTotalmente re...</td>\n",
       "      <td>La Latina</td>\n",
       "    </tr>\n",
       "    <tr>\n",
       "      <th>...</th>\n",
       "      <td>...</td>\n",
       "      <td>...</td>\n",
       "      <td>...</td>\n",
       "      <td>...</td>\n",
       "      <td>...</td>\n",
       "      <td>...</td>\n",
       "      <td>...</td>\n",
       "      <td>...</td>\n",
       "    </tr>\n",
       "    <tr>\n",
       "      <th>558</th>\n",
       "      <td>Estudio en avenida de la Osa Mayor, 57, Aravac...</td>\n",
       "      <td>750.0</td>\n",
       "      <td>55 m²</td>\n",
       "      <td>Planta 1ª exterior sin ascensor</td>\n",
       "      <td>NaN</td>\n",
       "      <td>www.idealista.com/inmueble/91089733/</td>\n",
       "      <td>\\nAire acondicionado, parque recién reformado.\\n</td>\n",
       "      <td>La Latina</td>\n",
       "    </tr>\n",
       "    <tr>\n",
       "      <th>559</th>\n",
       "      <td>Piso en avenida del Talgo, 220, Aravaca, Madrid</td>\n",
       "      <td>1.8</td>\n",
       "      <td>1 hab.</td>\n",
       "      <td>59 m²</td>\n",
       "      <td>Planta 1ª exterior con ascensor</td>\n",
       "      <td>www.idealista.com/inmueble/94651456/</td>\n",
       "      <td>\\nPrecioso apartamento recién pintado y listo ...</td>\n",
       "      <td>La Latina</td>\n",
       "    </tr>\n",
       "    <tr>\n",
       "      <th>560</th>\n",
       "      <td>Piso en calle San Restituto, 51, Valdezarza, M...</td>\n",
       "      <td>1.8</td>\n",
       "      <td>2 hab.</td>\n",
       "      <td>98 m²</td>\n",
       "      <td>Planta 6ª exterior con ascensor</td>\n",
       "      <td>www.idealista.com/inmueble/27957885/</td>\n",
       "      <td>\\nCalidades de lujo. 2 dormitorios. Cocina tot...</td>\n",
       "      <td>La Latina</td>\n",
       "    </tr>\n",
       "    <tr>\n",
       "      <th>561</th>\n",
       "      <td>Piso en calle Isla de Oza, 76, Ciudad Universi...</td>\n",
       "      <td>1.5</td>\n",
       "      <td>3 hab.</td>\n",
       "      <td>87 m²</td>\n",
       "      <td>Planta 1ª exterior con ascensor</td>\n",
       "      <td>www.idealista.com/inmueble/1986527/</td>\n",
       "      <td>\\nAbstenerse agencias comunidad incluida en el...</td>\n",
       "      <td>La Latina</td>\n",
       "    </tr>\n",
       "    <tr>\n",
       "      <th>562</th>\n",
       "      <td>Piso en calle del Tutor, Argüelles, Madrid</td>\n",
       "      <td>3.4</td>\n",
       "      <td>6 hab.</td>\n",
       "      <td>220 m²</td>\n",
       "      <td>Planta 5ª exterior con ascensor</td>\n",
       "      <td>www.idealista.com/inmueble/95275218/</td>\n",
       "      <td>\\nTODOS LOS GASTOS INCLUIDOS /MAD Housing alqu...</td>\n",
       "      <td>La Latina</td>\n",
       "    </tr>\n",
       "  </tbody>\n",
       "</table>\n",
       "<p>563 rows × 8 columns</p>\n",
       "</div>"
      ],
      "text/plain": [
       "                                                 title  price   rooms  \\\n",
       "0     Estudio en calle del Águila, 14, Palacio, Madrid  625.0   22 m²   \n",
       "1    Estudio en calle del Mediodía Chica, Palacio, ...  875.0   40 m²   \n",
       "2    Piso en calle del Mediodía Grande, Palacio, Ma...    1.0  1 hab.   \n",
       "3    Estudio en calle de Toledo, Lavapiés-Embajador...  670.0   20 m²   \n",
       "4               Piso en Tabernilla, 3, Palacio, Madrid  800.0  1 hab.   \n",
       "..                                                 ...    ...     ...   \n",
       "558  Estudio en avenida de la Osa Mayor, 57, Aravac...  750.0   55 m²   \n",
       "559    Piso en avenida del Talgo, 220, Aravaca, Madrid    1.8  1 hab.   \n",
       "560  Piso en calle San Restituto, 51, Valdezarza, M...    1.8  2 hab.   \n",
       "561  Piso en calle Isla de Oza, 76, Ciudad Universi...    1.5  3 hab.   \n",
       "562         Piso en calle del Tutor, Argüelles, Madrid    3.4  6 hab.   \n",
       "\n",
       "                                mtts                            floor  \\\n",
       "0    Planta 3ª interior con ascensor                          3 horas   \n",
       "1         Bajo interior sin ascensor                              NaN   \n",
       "2                              35 m²  Planta 4ª interior sin ascensor   \n",
       "3    Planta 4ª interior con ascensor                          22 ago    \n",
       "4                              40 m²       Bajo interior sin ascensor   \n",
       "..                               ...                              ...   \n",
       "558  Planta 1ª exterior sin ascensor                              NaN   \n",
       "559                            59 m²  Planta 1ª exterior con ascensor   \n",
       "560                            98 m²  Planta 6ª exterior con ascensor   \n",
       "561                            87 m²  Planta 1ª exterior con ascensor   \n",
       "562                           220 m²  Planta 5ª exterior con ascensor   \n",
       "\n",
       "                                     link  \\\n",
       "0    www.idealista.com/inmueble/95827954/   \n",
       "1    www.idealista.com/inmueble/98504557/   \n",
       "2    www.idealista.com/inmueble/98643813/   \n",
       "3    www.idealista.com/inmueble/98589983/   \n",
       "4    www.idealista.com/inmueble/98643705/   \n",
       "..                                    ...   \n",
       "558  www.idealista.com/inmueble/91089733/   \n",
       "559  www.idealista.com/inmueble/94651456/   \n",
       "560  www.idealista.com/inmueble/27957885/   \n",
       "561   www.idealista.com/inmueble/1986527/   \n",
       "562  www.idealista.com/inmueble/95275218/   \n",
       "\n",
       "                                           description neighborhood  \n",
       "0    \\n**ABSTENERSE AGENCIAS**\\nPARTICULAR alquila ...    La Latina  \n",
       "1    \\nServicheck Alquila, información con Johana 6...    La Latina  \n",
       "2    \\nDESCUBRE EL ALQUILER TEMPORAL CON PLANS IN P...    La Latina  \n",
       "3    \\nSERVICHECK ALQUILA:\\nPara informacion y visi...    La Latina  \n",
       "4    \\nBajo\\n1 dormitorio\\nAmueblado\\nTotalmente re...    La Latina  \n",
       "..                                                 ...          ...  \n",
       "558   \\nAire acondicionado, parque recién reformado.\\n    La Latina  \n",
       "559  \\nPrecioso apartamento recién pintado y listo ...    La Latina  \n",
       "560  \\nCalidades de lujo. 2 dormitorios. Cocina tot...    La Latina  \n",
       "561  \\nAbstenerse agencias comunidad incluida en el...    La Latina  \n",
       "562  \\nTODOS LOS GASTOS INCLUIDOS /MAD Housing alqu...    La Latina  \n",
       "\n",
       "[563 rows x 8 columns]"
      ]
     },
     "execution_count": 106,
     "metadata": {},
     "output_type": "execute_result"
    }
   ],
   "source": [
    "df['link'] = 'www.idealista.com' + df['link'].astype(str)\n",
    "df"
   ]
  },
  {
   "cell_type": "markdown",
   "id": "8d094608",
   "metadata": {},
   "source": [
    "# Create new colum if it is Piso, chalet, studio attic or else"
   ]
  },
  {
   "cell_type": "markdown",
   "id": "e7e621f6",
   "metadata": {},
   "source": [
    "## Pisos"
   ]
  },
  {
   "cell_type": "code",
   "execution_count": 117,
   "id": "ae804319",
   "metadata": {
    "ExecuteTime": {
     "end_time": "2022-08-28T14:13:28.584863Z",
     "start_time": "2022-08-28T14:13:28.567866Z"
    }
   },
   "outputs": [],
   "source": [
    "mask = df['title'].str.contains('Piso')\n",
    "df['Piso'] = mask"
   ]
  },
  {
   "cell_type": "code",
   "execution_count": 118,
   "id": "5dfdc458",
   "metadata": {
    "ExecuteTime": {
     "end_time": "2022-08-28T14:13:29.024657Z",
     "start_time": "2022-08-28T14:13:29.016662Z"
    }
   },
   "outputs": [
    {
     "data": {
      "text/plain": [
       "True     454\n",
       "False    109\n",
       "Name: Piso, dtype: int64"
      ]
     },
     "execution_count": 118,
     "metadata": {},
     "output_type": "execute_result"
    }
   ],
   "source": [
    "df['Piso'].value_counts()"
   ]
  },
  {
   "cell_type": "markdown",
   "id": "4425c082",
   "metadata": {},
   "source": [
    "## Estudio"
   ]
  },
  {
   "cell_type": "code",
   "execution_count": 119,
   "id": "2b21bca6",
   "metadata": {
    "ExecuteTime": {
     "end_time": "2022-08-28T14:13:29.522672Z",
     "start_time": "2022-08-28T14:13:29.512685Z"
    }
   },
   "outputs": [],
   "source": [
    "mask1 = df['title'].str.contains('Estudio')\n",
    "df['Estudio'] = mask1"
   ]
  },
  {
   "cell_type": "code",
   "execution_count": 120,
   "id": "c5f74e77",
   "metadata": {
    "ExecuteTime": {
     "end_time": "2022-08-28T14:13:30.401361Z",
     "start_time": "2022-08-28T14:13:30.392365Z"
    }
   },
   "outputs": [
    {
     "data": {
      "text/plain": [
       "False    537\n",
       "True      26\n",
       "Name: Estudio, dtype: int64"
      ]
     },
     "execution_count": 120,
     "metadata": {},
     "output_type": "execute_result"
    }
   ],
   "source": [
    "df['Estudio'].value_counts()"
   ]
  },
  {
   "cell_type": "markdown",
   "id": "ffd335bb",
   "metadata": {},
   "source": [
    "## Attic"
   ]
  },
  {
   "cell_type": "code",
   "execution_count": 121,
   "id": "dc7c0e43",
   "metadata": {
    "ExecuteTime": {
     "end_time": "2022-08-28T15:18:05.926404Z",
     "start_time": "2022-08-28T15:18:05.915884Z"
    }
   },
   "outputs": [],
   "source": [
    "mask2 = df['title'].str.contains('Ático')\n",
    "df['Attic'] = mask2"
   ]
  },
  {
   "cell_type": "code",
   "execution_count": 122,
   "id": "f4fb71ca",
   "metadata": {
    "ExecuteTime": {
     "end_time": "2022-08-28T15:18:16.317244Z",
     "start_time": "2022-08-28T15:18:16.299249Z"
    }
   },
   "outputs": [
    {
     "data": {
      "text/plain": [
       "False    533\n",
       "True      30\n",
       "Name: Attic, dtype: int64"
      ]
     },
     "execution_count": 122,
     "metadata": {},
     "output_type": "execute_result"
    }
   ],
   "source": [
    "df['Attic'].value_counts()"
   ]
  },
  {
   "cell_type": "markdown",
   "id": "9bb980e5",
   "metadata": {},
   "source": [
    "## Duplex"
   ]
  },
  {
   "cell_type": "code",
   "execution_count": 123,
   "id": "7c120b27",
   "metadata": {
    "ExecuteTime": {
     "end_time": "2022-08-28T15:20:06.981789Z",
     "start_time": "2022-08-28T15:20:06.962780Z"
    }
   },
   "outputs": [],
   "source": [
    "mask2 = df['title'].str.contains('Dúplex')\n",
    "df['Dúplex'] = mask2"
   ]
  },
  {
   "cell_type": "code",
   "execution_count": 124,
   "id": "911b5c7d",
   "metadata": {
    "ExecuteTime": {
     "end_time": "2022-08-28T15:20:07.838429Z",
     "start_time": "2022-08-28T15:20:07.827425Z"
    }
   },
   "outputs": [
    {
     "data": {
      "text/plain": [
       "False    542\n",
       "True      21\n",
       "Name: Dúplex, dtype: int64"
      ]
     },
     "execution_count": 124,
     "metadata": {},
     "output_type": "execute_result"
    }
   ],
   "source": [
    "df['Dúplex'].value_counts()"
   ]
  },
  {
   "cell_type": "markdown",
   "id": "a0226626",
   "metadata": {},
   "source": [
    "Eliminate others than Duplex, Attic, Flat or Studio"
   ]
  },
  {
   "cell_type": "markdown",
   "id": "6af3e540",
   "metadata": {},
   "source": [
    "# Amenities such as pool and furniture"
   ]
  },
  {
   "cell_type": "markdown",
   "id": "f1e9de81",
   "metadata": {},
   "source": [
    "## Furniture"
   ]
  },
  {
   "cell_type": "code",
   "execution_count": 84,
   "id": "d6ff4302",
   "metadata": {
    "ExecuteTime": {
     "end_time": "2022-08-30T19:51:21.252455Z",
     "start_time": "2022-08-30T19:51:21.238445Z"
    }
   },
   "outputs": [],
   "source": [
    "mask = df['description'].str.contains('amueblado')\n",
    "df['Furniture'] = mask"
   ]
  },
  {
   "cell_type": "code",
   "execution_count": 86,
   "id": "58955f4c",
   "metadata": {
    "ExecuteTime": {
     "end_time": "2022-08-30T19:51:48.390264Z",
     "start_time": "2022-08-30T19:51:48.368272Z"
    }
   },
   "outputs": [
    {
     "data": {
      "text/plain": [
       "False    502\n",
       "True      61\n",
       "Name: Furniture, dtype: Int64"
      ]
     },
     "execution_count": 86,
     "metadata": {},
     "output_type": "execute_result"
    }
   ],
   "source": [
    "df['Furniture'].value_counts()"
   ]
  },
  {
   "cell_type": "markdown",
   "id": "88013285",
   "metadata": {},
   "source": [
    "## Pool"
   ]
  },
  {
   "cell_type": "code",
   "execution_count": 87,
   "id": "1f07b644",
   "metadata": {
    "ExecuteTime": {
     "end_time": "2022-08-30T19:55:37.102414Z",
     "start_time": "2022-08-30T19:55:37.086413Z"
    }
   },
   "outputs": [],
   "source": [
    "mask = df['description'].str.contains('piscina')\n",
    "df['Pool'] = mask"
   ]
  },
  {
   "cell_type": "code",
   "execution_count": 88,
   "id": "3c4f742c",
   "metadata": {
    "ExecuteTime": {
     "end_time": "2022-08-30T19:55:52.475736Z",
     "start_time": "2022-08-30T19:55:52.468965Z"
    }
   },
   "outputs": [
    {
     "data": {
      "text/plain": [
       "False    528\n",
       "True      35\n",
       "Name: Pool, dtype: Int64"
      ]
     },
     "execution_count": 88,
     "metadata": {},
     "output_type": "execute_result"
    }
   ],
   "source": [
    "df['Pool'].value_counts()"
   ]
  },
  {
   "cell_type": "markdown",
   "id": "a9f35421",
   "metadata": {},
   "source": [
    "# Remove the Madrid to look them in Google Maps"
   ]
  },
  {
   "cell_type": "markdown",
   "id": "d4c93f94",
   "metadata": {},
   "source": [
    "## Pisos"
   ]
  },
  {
   "cell_type": "code",
   "execution_count": 93,
   "id": "a893a7d4",
   "metadata": {
    "ExecuteTime": {
     "end_time": "2022-08-30T20:04:54.590247Z",
     "start_time": "2022-08-30T20:04:54.580247Z"
    }
   },
   "outputs": [],
   "source": [
    "df['title'] = df['title'].str.replace('Piso en ','')\n",
    "df['title'] = df['title'].str.replace('Dúplex en ','')\n",
    "df['title'] = df['title'].str.replace('Estudio en ','')\n",
    "df['title'] = df['title'].str.replace('Ático en ','')"
   ]
  },
  {
   "cell_type": "code",
   "execution_count": 94,
   "id": "d36dc79d",
   "metadata": {
    "ExecuteTime": {
     "end_time": "2022-08-30T20:04:55.865778Z",
     "start_time": "2022-08-30T20:04:55.853769Z"
    }
   },
   "outputs": [
    {
     "data": {
      "text/html": [
       "<div>\n",
       "<style scoped>\n",
       "    .dataframe tbody tr th:only-of-type {\n",
       "        vertical-align: middle;\n",
       "    }\n",
       "\n",
       "    .dataframe tbody tr th {\n",
       "        vertical-align: top;\n",
       "    }\n",
       "\n",
       "    .dataframe thead th {\n",
       "        text-align: right;\n",
       "    }\n",
       "</style>\n",
       "<table border=\"1\" class=\"dataframe\">\n",
       "  <thead>\n",
       "    <tr style=\"text-align: right;\">\n",
       "      <th></th>\n",
       "      <th>title</th>\n",
       "      <th>price</th>\n",
       "      <th>rooms</th>\n",
       "      <th>mtts</th>\n",
       "      <th>floor</th>\n",
       "      <th>link</th>\n",
       "      <th>description</th>\n",
       "      <th>neighborhood</th>\n",
       "      <th>Furniture</th>\n",
       "      <th>Pool</th>\n",
       "    </tr>\n",
       "  </thead>\n",
       "  <tbody>\n",
       "    <tr>\n",
       "      <th>0</th>\n",
       "      <td>calle del Águila, 14, Palacio, Madrid</td>\n",
       "      <td>625.0</td>\n",
       "      <td>22 m²</td>\n",
       "      <td>Planta 3ª interior con ascensor</td>\n",
       "      <td>3 horas</td>\n",
       "      <td>/inmueble/95827954/</td>\n",
       "      <td>**ABSTENERSE AGENCIAS**\n",
       "PARTICULAR alquila co...</td>\n",
       "      <td>La Latina</td>\n",
       "      <td>False</td>\n",
       "      <td>False</td>\n",
       "    </tr>\n",
       "    <tr>\n",
       "      <th>1</th>\n",
       "      <td>calle del Mediodía Chica, Palacio, Madrid</td>\n",
       "      <td>875.0</td>\n",
       "      <td>40 m²</td>\n",
       "      <td>Bajo interior sin ascensor</td>\n",
       "      <td>NaN</td>\n",
       "      <td>/inmueble/98504557/</td>\n",
       "      <td>Servicheck Alquila, información con Johana 67...</td>\n",
       "      <td>La Latina</td>\n",
       "      <td>False</td>\n",
       "      <td>False</td>\n",
       "    </tr>\n",
       "    <tr>\n",
       "      <th>2</th>\n",
       "      <td>calle del Mediodía Grande, Palacio, Madrid</td>\n",
       "      <td>1.0</td>\n",
       "      <td>1 hab.</td>\n",
       "      <td>35 m²</td>\n",
       "      <td>Planta 4ª interior sin ascensor</td>\n",
       "      <td>/inmueble/98643813/</td>\n",
       "      <td>DESCUBRE EL ALQUILER TEMPORAL CON PLANS IN PL...</td>\n",
       "      <td>La Latina</td>\n",
       "      <td>False</td>\n",
       "      <td>False</td>\n",
       "    </tr>\n",
       "    <tr>\n",
       "      <th>3</th>\n",
       "      <td>calle de Toledo, Lavapiés-Embajadores, Madrid</td>\n",
       "      <td>670.0</td>\n",
       "      <td>20 m²</td>\n",
       "      <td>Planta 4ª interior con ascensor</td>\n",
       "      <td>22 ago</td>\n",
       "      <td>/inmueble/98589983/</td>\n",
       "      <td>SERVICHECK ALQUILA:\n",
       "Para informacion y visita...</td>\n",
       "      <td>La Latina</td>\n",
       "      <td>False</td>\n",
       "      <td>False</td>\n",
       "    </tr>\n",
       "    <tr>\n",
       "      <th>4</th>\n",
       "      <td>Tabernilla, 3, Palacio, Madrid</td>\n",
       "      <td>800.0</td>\n",
       "      <td>1 hab.</td>\n",
       "      <td>40 m²</td>\n",
       "      <td>Bajo interior sin ascensor</td>\n",
       "      <td>/inmueble/98643705/</td>\n",
       "      <td>Bajo\n",
       "1 dormitorio\n",
       "Amueblado\n",
       "Totalmente reform...</td>\n",
       "      <td>La Latina</td>\n",
       "      <td>False</td>\n",
       "      <td>False</td>\n",
       "    </tr>\n",
       "    <tr>\n",
       "      <th>...</th>\n",
       "      <td>...</td>\n",
       "      <td>...</td>\n",
       "      <td>...</td>\n",
       "      <td>...</td>\n",
       "      <td>...</td>\n",
       "      <td>...</td>\n",
       "      <td>...</td>\n",
       "      <td>...</td>\n",
       "      <td>...</td>\n",
       "      <td>...</td>\n",
       "    </tr>\n",
       "    <tr>\n",
       "      <th>558</th>\n",
       "      <td>avenida de la Osa Mayor, 57, Aravaca, Madrid</td>\n",
       "      <td>750.0</td>\n",
       "      <td>55 m²</td>\n",
       "      <td>Planta 1ª exterior sin ascensor</td>\n",
       "      <td>NaN</td>\n",
       "      <td>/inmueble/91089733/</td>\n",
       "      <td>Aire acondicionado, parque recién reformado.</td>\n",
       "      <td>La Latina</td>\n",
       "      <td>False</td>\n",
       "      <td>False</td>\n",
       "    </tr>\n",
       "    <tr>\n",
       "      <th>559</th>\n",
       "      <td>avenida del Talgo, 220, Aravaca, Madrid</td>\n",
       "      <td>1.8</td>\n",
       "      <td>1 hab.</td>\n",
       "      <td>59 m²</td>\n",
       "      <td>Planta 1ª exterior con ascensor</td>\n",
       "      <td>/inmueble/94651456/</td>\n",
       "      <td>Precioso apartamento recién pintado y listo p...</td>\n",
       "      <td>La Latina</td>\n",
       "      <td>False</td>\n",
       "      <td>True</td>\n",
       "    </tr>\n",
       "    <tr>\n",
       "      <th>560</th>\n",
       "      <td>calle San Restituto, 51, Valdezarza, Madrid</td>\n",
       "      <td>1.8</td>\n",
       "      <td>2 hab.</td>\n",
       "      <td>98 m²</td>\n",
       "      <td>Planta 6ª exterior con ascensor</td>\n",
       "      <td>/inmueble/27957885/</td>\n",
       "      <td>Calidades de lujo. 2 dormitorios. Cocina tota...</td>\n",
       "      <td>La Latina</td>\n",
       "      <td>False</td>\n",
       "      <td>False</td>\n",
       "    </tr>\n",
       "    <tr>\n",
       "      <th>561</th>\n",
       "      <td>calle Isla de Oza, 76, Ciudad Universitaria, M...</td>\n",
       "      <td>1.5</td>\n",
       "      <td>3 hab.</td>\n",
       "      <td>87 m²</td>\n",
       "      <td>Planta 1ª exterior con ascensor</td>\n",
       "      <td>/inmueble/1986527/</td>\n",
       "      <td>Abstenerse agencias comunidad incluida en el ...</td>\n",
       "      <td>La Latina</td>\n",
       "      <td>False</td>\n",
       "      <td>False</td>\n",
       "    </tr>\n",
       "    <tr>\n",
       "      <th>562</th>\n",
       "      <td>calle del Tutor, Argüelles, Madrid</td>\n",
       "      <td>3.4</td>\n",
       "      <td>6 hab.</td>\n",
       "      <td>220 m²</td>\n",
       "      <td>Planta 5ª exterior con ascensor</td>\n",
       "      <td>/inmueble/95275218/</td>\n",
       "      <td>TODOS LOS GASTOS INCLUIDOS /MAD Housing alqui...</td>\n",
       "      <td>La Latina</td>\n",
       "      <td>False</td>\n",
       "      <td>False</td>\n",
       "    </tr>\n",
       "  </tbody>\n",
       "</table>\n",
       "<p>563 rows × 10 columns</p>\n",
       "</div>"
      ],
      "text/plain": [
       "                                                 title  price   rooms  \\\n",
       "0                calle del Águila, 14, Palacio, Madrid  625.0   22 m²   \n",
       "1            calle del Mediodía Chica, Palacio, Madrid  875.0   40 m²   \n",
       "2           calle del Mediodía Grande, Palacio, Madrid    1.0  1 hab.   \n",
       "3        calle de Toledo, Lavapiés-Embajadores, Madrid  670.0   20 m²   \n",
       "4                       Tabernilla, 3, Palacio, Madrid  800.0  1 hab.   \n",
       "..                                                 ...    ...     ...   \n",
       "558       avenida de la Osa Mayor, 57, Aravaca, Madrid  750.0   55 m²   \n",
       "559            avenida del Talgo, 220, Aravaca, Madrid    1.8  1 hab.   \n",
       "560        calle San Restituto, 51, Valdezarza, Madrid    1.8  2 hab.   \n",
       "561  calle Isla de Oza, 76, Ciudad Universitaria, M...    1.5  3 hab.   \n",
       "562                 calle del Tutor, Argüelles, Madrid    3.4  6 hab.   \n",
       "\n",
       "                                mtts                            floor  \\\n",
       "0    Planta 3ª interior con ascensor                          3 horas   \n",
       "1         Bajo interior sin ascensor                              NaN   \n",
       "2                              35 m²  Planta 4ª interior sin ascensor   \n",
       "3    Planta 4ª interior con ascensor                          22 ago    \n",
       "4                              40 m²       Bajo interior sin ascensor   \n",
       "..                               ...                              ...   \n",
       "558  Planta 1ª exterior sin ascensor                              NaN   \n",
       "559                            59 m²  Planta 1ª exterior con ascensor   \n",
       "560                            98 m²  Planta 6ª exterior con ascensor   \n",
       "561                            87 m²  Planta 1ª exterior con ascensor   \n",
       "562                           220 m²  Planta 5ª exterior con ascensor   \n",
       "\n",
       "                    link                                        description  \\\n",
       "0    /inmueble/95827954/  \n",
       "**ABSTENERSE AGENCIAS**\n",
       "PARTICULAR alquila co...   \n",
       "1    /inmueble/98504557/  \n",
       "Servicheck Alquila, información con Johana 67...   \n",
       "2    /inmueble/98643813/  \n",
       "DESCUBRE EL ALQUILER TEMPORAL CON PLANS IN PL...   \n",
       "3    /inmueble/98589983/  \n",
       "SERVICHECK ALQUILA:\n",
       "Para informacion y visita...   \n",
       "4    /inmueble/98643705/  \n",
       "Bajo\n",
       "1 dormitorio\n",
       "Amueblado\n",
       "Totalmente reform...   \n",
       "..                   ...                                                ...   \n",
       "558  /inmueble/91089733/     \n",
       "Aire acondicionado, parque recién reformado.\n",
       "   \n",
       "559  /inmueble/94651456/  \n",
       "Precioso apartamento recién pintado y listo p...   \n",
       "560  /inmueble/27957885/  \n",
       "Calidades de lujo. 2 dormitorios. Cocina tota...   \n",
       "561   /inmueble/1986527/  \n",
       "Abstenerse agencias comunidad incluida en el ...   \n",
       "562  /inmueble/95275218/  \n",
       "TODOS LOS GASTOS INCLUIDOS /MAD Housing alqui...   \n",
       "\n",
       "    neighborhood  Furniture   Pool  \n",
       "0      La Latina      False  False  \n",
       "1      La Latina      False  False  \n",
       "2      La Latina      False  False  \n",
       "3      La Latina      False  False  \n",
       "4      La Latina      False  False  \n",
       "..           ...        ...    ...  \n",
       "558    La Latina      False  False  \n",
       "559    La Latina      False   True  \n",
       "560    La Latina      False  False  \n",
       "561    La Latina      False  False  \n",
       "562    La Latina      False  False  \n",
       "\n",
       "[563 rows x 10 columns]"
      ]
     },
     "execution_count": 94,
     "metadata": {},
     "output_type": "execute_result"
    }
   ],
   "source": [
    "df"
   ]
  }
 ],
 "metadata": {
  "kernelspec": {
   "display_name": "Python 3 (ipykernel)",
   "language": "python",
   "name": "python3"
  },
  "language_info": {
   "codemirror_mode": {
    "name": "ipython",
    "version": 3
   },
   "file_extension": ".py",
   "mimetype": "text/x-python",
   "name": "python",
   "nbconvert_exporter": "python",
   "pygments_lexer": "ipython3",
   "version": "3.9.12"
  },
  "toc": {
   "base_numbering": 1,
   "nav_menu": {},
   "number_sections": true,
   "sideBar": true,
   "skip_h1_title": false,
   "title_cell": "Table of Contents",
   "title_sidebar": "Contents",
   "toc_cell": false,
   "toc_position": {
    "height": "calc(100% - 180px)",
    "left": "10px",
    "top": "150px",
    "width": "316px"
   },
   "toc_section_display": true,
   "toc_window_display": true
  },
  "varInspector": {
   "cols": {
    "lenName": 16,
    "lenType": 16,
    "lenVar": 40
   },
   "kernels_config": {
    "python": {
     "delete_cmd_postfix": "",
     "delete_cmd_prefix": "del ",
     "library": "var_list.py",
     "varRefreshCmd": "print(var_dic_list())"
    },
    "r": {
     "delete_cmd_postfix": ") ",
     "delete_cmd_prefix": "rm(",
     "library": "var_list.r",
     "varRefreshCmd": "cat(var_dic_list()) "
    }
   },
   "types_to_exclude": [
    "module",
    "function",
    "builtin_function_or_method",
    "instance",
    "_Feature"
   ],
   "window_display": false
  }
 },
 "nbformat": 4,
 "nbformat_minor": 5
}
